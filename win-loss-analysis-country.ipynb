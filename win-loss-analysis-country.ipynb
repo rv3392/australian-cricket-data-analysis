{
 "nbformat": 4,
 "nbformat_minor": 2,
 "metadata": {
  "language_info": {
   "name": "python",
   "codemirror_mode": {
    "name": "ipython",
    "version": 3
   },
   "version": "3.6.9-final"
  },
  "orig_nbformat": 2,
  "file_extension": ".py",
  "mimetype": "text/x-python",
  "name": "python",
  "npconvert_exporter": "python",
  "pygments_lexer": "ipython3",
  "version": 3,
  "kernelspec": {
   "name": "python36964bitcosc3000visualisationprojectvenv0f95dd858c3e45249a0df1643b6ad7ac",
   "display_name": "Python 3.6.9 64-bit ('cosc3000-visualisation-project': venv)"
  }
 },
 "cells": [
  {
   "cell_type": "code",
   "execution_count": 2,
   "metadata": {},
   "outputs": [],
   "source": [
    "from utils import win_loss_utils\n",
    "from utils import ground_utils\n",
    "import pandas as pd\n",
    "\n",
    "win_loss_utils.save_data()"
   ]
  },
  {
   "cell_type": "code",
   "execution_count": 3,
   "metadata": {},
   "outputs": [],
   "source": [
    "all_data, home_data, away_data = win_loss_utils.load_data()\n",
    "all_data[\"Start Date\"] = pd.to_datetime(all_data[\"Start Date\"], format=\"%d %b %Y\")\n",
    "home_data[\"Start Date\"] = pd.to_datetime(home_data[\"Start Date\"], format=\"%d %b %Y\")\n",
    "away_data[\"Start Date\"] = pd.to_datetime(away_data[\"Start Date\"], format=\"%d %b %Y\")"
   ]
  },
  {
   "cell_type": "code",
   "execution_count": 8,
   "metadata": {},
   "outputs": [
    {
     "output_type": "stream",
     "name": "stdout",
     "text": "Start Date Result      Margin  Toss  Bat     Opposition         Ground  \\\n0   1990-03-15   lost   9 wickets   won  1st  v New Zealand     Wellington   \n1   1991-03-01   draw           -  lost  2nd  v West Indies       Kingston   \n2   1991-03-23   lost  10 wickets   won  1st  v West Indies     Georgetown   \n3   1991-04-05   draw           -  lost  1st  v West Indies  Port of Spain   \n4   1991-04-19   lost    343 runs   won  2nd  v West Indies     Bridgetown   \n..         ...    ...         ...   ...  ...            ...            ...   \n160 2019-08-01    won    251 runs   won  1st      v England     Birmingham   \n161 2019-08-14   draw           -   won  2nd      v England         Lord's   \n162 2019-08-22   lost   1 wickets  lost  1st      v England          Leeds   \n163 2019-09-04    won    185 runs   won  1st      v England     Manchester   \n164 2019-09-12   lost    135 runs   won  2nd      v England       The Oval   \n\n                    Scorecard Link      Country  \n0      /ci/engine/match/63530.html  New Zealand  \n1      /ci/engine/match/63552.html  West Indies  \n2      /ci/engine/match/63553.html  West Indies  \n3      /ci/engine/match/63554.html  West Indies  \n4      /ci/engine/match/63555.html  West Indies  \n..                             ...          ...  \n160  /ci/engine/match/1152846.html      England  \n161  /ci/engine/match/1152847.html      England  \n162  /ci/engine/match/1152848.html      England  \n163  /ci/engine/match/1152849.html      England  \n164  /ci/engine/match/1152850.html      England  \n\n[170 rows x 9 columns]\n"
    }
   ],
   "source": [
    "ground_details = ground_utils.load_data()\n",
    "ground_details = ground_details[[\"Ground\", \"Country\"]]\n",
    "ground_details = ground_details.set_index(\"Ground\")\n",
    "\n",
    "away_data_country = away_data.join(other=ground_details, on=\"Ground\")\n",
    "away_data_country = away_data_country.drop(columns=[\"Ground Link\", \"Global Test ID\"])\n",
    "\n",
    "print(away_data_country)"
   ]
  },
  {
   "cell_type": "code",
   "execution_count": null,
   "metadata": {},
   "outputs": [],
   "source": []
  }
 ]
}