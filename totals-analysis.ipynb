{
 "cells": [
  {
   "cell_type": "code",
   "execution_count": 16,
   "metadata": {},
   "outputs": [
    {
     "output_type": "stream",
     "name": "stdout",
     "text": "\n\n\n\n\n\n\n\n\n\n\n\n\n\n\n\n\n\n\n\n\n\n\n\n\n\n\n\n\n\n\n\n\n\n\n\n\n\n\n\n\n\n\n\n\n\n\n\n\n\n\n\n\n\n\n\n\n\n\n\n\n\n\n\n\n\n\n\n\n\n\n\n\n\n\n\n\n\n\n\n\n\n\n\n\n\n\n\n\n\n\n\n\n\n\n\n\n\n\n\n\n\n\n\n\n\n\n\n\n\n\n\n\n\n\n\n\n\n\n\n\n\n\n\n\n\n\n\n\n\n\n\n\n\n\n\n\n\n\n\n\n\n\n\n\n\n\n\n\n\n\n\n\n\n\n\n\n\n\n\n\n\n\n\n\n\n\n\n\n\n\n\n\n\n\n\n\n\n\n\n\n\n\n\n\n\n\n\n\n\n\n\n\n\n\n\n\n\n\n\n\n\n\n\n\n\n\n\n\n\n\n\n\n\n\n\n\n\n\n\n\n\n\n\n\n\n\n\n\n\n\n\n\n\n\n\n\n\n\n\n\n\n\n\n\n\n\n\n\n\n\n\n\n\n\n\n\n\n\n\n\n\n\n\n\n\n\n\n\n\n\n\n\n\n\n\n\n\n\n\n\n\n\n\n\n\n\n\n\n\n\n\n\n\n\n\n\n\n\n\n\n\n\n\n\n\n\n\n\n\n\n\n\n\n\n\n\n\n\n\n\n\n\n\n\n\n\n\n\n\n\n\n\n\n\n\n\n\n\n\n\n\n\n\n\n\n\n\n\n\n\n\n\n\n\n\n\n\n\n\n\n\n\n\n\n\n\n\n\n\n\n\n\n\n\n\n\n\n\n\n\n\n\n\n\n\n\n\n\n\n\n\n\n\n\n\n\n\n\n\n\n\n\n\n\n\n\n\n\n\n\n\n\n\n\n\n\n\n\n\n\n\n\n\n\n\n\n\n\n\n\n\n\n\n\n\n\n\n\n\n\n\n\n\n\n\n\n\n\n\n\n\n\n\n\n\n\n\n\n\n\n\n\n\n\n\n\n\n\n\n\n\n\n\n\n\n\n\n\n\n\n\n\n\n\n\n\n\n\n\n\n\n\n\n\n\n\n\n\n\n\n\n\n\n\n\n\n\n\n\n\n\n\n\n\n\n\n\n\n\n\n\n\n\n\n\n\n\n\n\n\n\n\n\n\n\n\n\n\n\n\n\n\n\n\n\n\n\n\n\n\n\n\n\n\n\n\n\n\n\n\n\n\n\n\n\n\n\n\n\n\n\n\n\n\n\n\n\n\n\n\n\n\n\n\n\n\n\n\n\n\n\n\n\n\n\n\n\n\n\n\n\n\n\n\n\n\n\n\n\n\n\n\n\n\n\n\n\n\n\n\n\n\n\n\n\n\n\n\n\n\n\n\n\n\n\n\n\n\n\n\n\n\n\n\n\n\n     Total\n0      163\n1      518\n2      519\n3      297\n4      246\n..     ...\n602    109\n603    269\n604    465\n605    417\n606    153\n\n[607 rows x 1 columns]\n"
    }
   ],
   "source": [
    "import pandas as pd\n",
    "import os\n",
    "\n",
    "totals = []\n",
    "for match in os.listdir(\"matches\"):\n",
    "    for inning in os.listdir(\"matches/\" + match):\n",
    "        if \"batting\" in inning:\n",
    "            batting_inning = pd.read_csv(\"matches/\" + match + \"/\" + inning)\n",
    "            batting_inning = batting_inning.loc[batting_inning[\"Country\"] == \"Australia\"]\n",
    "            total = batting_inning[\"Runs\"].sum()\n",
    "            totals.append(total) if total > 0 else print()\n",
    "totals = pd.DataFrame(data=totals, columns=[\"Total\"])\n",
    "print(totals)"
   ]
  },
  {
   "cell_type": "code",
   "execution_count": 17,
   "metadata": {},
   "outputs": [
    {
     "output_type": "display_data",
     "data": {
      "application/vnd.plotly.v1+json": {
       "config": {
        "plotlyServerURL": "https://plot.ly"
       },
       "data": [
        {
         "hovertemplate": "Total=%{y}<extra></extra>",
         "legendgroup": "",
         "line": {
          "color": "#636efa",
          "dash": "solid"
         },
         "mode": "lines",
         "name": "",
         "showlegend": false,
         "type": "scatter",
         "xaxis": "x",
         "y": [
          163,
          518,
          519,
          297,
          246,
          309,
          195,
          245,
          249,
          251,
          187,
          332,
          360,
          448,
          497,
          136,
          126,
          269,
          122,
          362,
          176,
          436,
          157,
          473,
          109,
          410,
          134,
          203,
          385,
          352,
          123,
          237,
          293,
          210,
          257,
          403,
          135,
          380,
          202,
          559,
          497,
          189,
          351,
          337,
          218,
          130,
          221,
          293,
          121,
          101,
          181,
          147,
          473,
          83,
          217,
          242,
          432,
          254,
          101,
          245,
          271,
          568,
          216,
          59,
          416,
          195,
          527,
          244,
          434,
          264,
          84,
          159,
          206,
          159,
          496,
          267,
          295,
          151,
          192,
          161,
          446,
          199,
          447,
          589,
          451,
          116,
          556,
          130,
          559,
          245,
          265,
          274,
          276,
          164,
          542,
          249,
          435,
          104,
          327,
          335,
          514,
          298,
          486,
          115,
          128,
          428,
          319,
          153,
          385,
          77,
          375,
          343,
          216,
          281,
          235,
          158,
          553,
          527,
          517,
          187,
          447,
          209,
          315,
          52,
          518,
          188,
          206,
          111,
          372,
          266,
          316,
          227,
          443,
          198,
          530,
          85,
          571,
          276,
          249,
          283,
          279,
          289,
          296,
          209,
          268,
          200,
          116,
          432,
          254,
          213,
          91,
          249,
          363,
          246,
          539,
          258,
          332,
          313,
          575,
          640,
          250,
          285,
          128,
          254,
          312,
          251,
          286,
          212,
          118,
          182,
          377,
          323,
          520,
          30,
          637,
          419,
          202,
          464,
          230,
          114,
          440,
          391,
          112,
          598,
          209,
          306,
          258,
          286,
          108,
          194,
          235,
          380,
          184,
          482,
          285,
          433,
          213,
          124,
          212,
          142,
          159,
          339,
          222,
          302,
          286,
          219,
          174,
          423,
          278,
          526,
          61,
          408,
          318,
          217,
          156,
          315,
          216,
          415,
          454,
          139,
          224,
          118,
          539,
          214,
          425,
          277,
          239,
          598,
          189,
          197,
          366,
          122,
          472,
          284,
          387,
          162,
          370,
          238,
          311,
          180,
          252,
          363,
          343,
          303,
          381,
          199,
          246,
          242,
          370,
          311,
          563,
          132,
          174,
          211,
          403,
          196,
          307,
          228,
          530,
          535,
          166,
          366,
          243,
          327,
          196,
          418,
          234,
          80,
          325,
          427,
          517,
          163,
          169,
          358,
          250,
          154,
          300,
          46,
          438,
          324,
          169,
          487,
          38,
          245,
          103,
          289,
          132,
          717,
          233,
          360,
          360,
          299,
          429,
          134,
          330,
          47,
          211,
          94,
          442,
          121,
          267,
          47,
          153,
          328,
          373,
          43,
          313,
          179,
          447,
          412,
          4,
          499,
          161,
          328,
          264,
          337,
          380,
          182,
          200,
          230,
          184,
          162,
          460,
          96,
          427,
          239,
          445,
          378,
          389,
          265,
          265,
          297,
          264,
          293,
          193,
          80,
          476,
          215,
          278,
          289,
          6,
          104,
          166,
          594,
          6,
          392,
          133,
          458,
          218,
          229,
          312,
          640,
          543,
          190,
          269,
          303,
          166,
          219,
          236,
          331,
          436,
          329,
          332,
          404,
          89,
          391,
          377,
          186,
          200,
          405,
          380,
          308,
          266,
          404,
          357,
          183,
          534,
          72,
          507,
          13,
          248,
          232,
          533,
          309,
          227,
          326,
          357,
          415,
          170,
          372,
          224,
          550,
          300,
          90,
          532,
          51,
          445,
          221,
          277,
          291,
          468,
          171,
          543,
          313,
          237,
          355,
          303,
          224,
          413,
          229,
          392,
          438,
          364,
          369,
          123,
          280,
          97,
          260,
          219,
          504,
          220,
          375,
          540,
          201,
          316,
          460,
          10,
          519,
          86,
          567,
          353,
          284,
          248,
          360,
          384,
          372,
          259,
          199,
          368,
          485,
          210,
          296,
          271,
          274,
          293,
          239,
          509,
          344,
          503,
          211,
          323,
          412,
          19,
          244,
          501,
          344,
          206,
          100,
          176,
          318,
          157,
          145,
          251,
          435,
          156,
          385,
          218,
          288,
          234,
          329,
          119,
          375,
          409,
          193,
          319,
          96,
          249,
          341,
          294,
          416,
          136,
          526,
          233,
          640,
          288,
          112,
          202,
          218,
          265,
          261,
          205,
          279,
          366,
          150,
          325,
          259,
          215,
          184,
          130,
          139,
          627,
          543,
          415,
          195,
          365,
          87,
          610,
          282,
          389,
          121,
          225,
          189,
          342,
          402,
          214,
          323,
          403,
          429,
          224,
          414,
          154,
          502,
          269,
          521,
          368,
          14,
          616,
          239,
          195,
          46,
          213,
          215,
          417,
          407,
          509,
          229,
          225,
          198,
          280,
          483,
          261,
          109,
          466,
          597,
          404,
          163,
          342,
          249,
          429,
          188,
          520,
          345,
          280,
          274,
          179,
          402,
          171,
          576,
          161,
          230,
          208,
          472,
          109,
          211,
          467,
          549,
          376,
          375,
          351,
          487,
          241,
          164,
          363,
          154,
          371,
          328,
          106,
          316,
          308,
          462,
          258,
          286,
          194,
          106,
          286,
          184,
          124,
          320,
          183,
          579,
          577,
          197,
          158,
          317,
          443,
          328,
          36,
          331,
          219,
          486,
          195,
          442,
          109,
          269,
          465,
          417,
          153
         ],
         "yaxis": "y"
        }
       ],
       "layout": {
        "legend": {
         "tracegroupgap": 0
        },
        "margin": {
         "t": 60
        },
        "template": {
         "data": {
          "bar": [
           {
            "error_x": {
             "color": "#2a3f5f"
            },
            "error_y": {
             "color": "#2a3f5f"
            },
            "marker": {
             "line": {
              "color": "#E5ECF6",
              "width": 0.5
             }
            },
            "type": "bar"
           }
          ],
          "barpolar": [
           {
            "marker": {
             "line": {
              "color": "#E5ECF6",
              "width": 0.5
             }
            },
            "type": "barpolar"
           }
          ],
          "carpet": [
           {
            "aaxis": {
             "endlinecolor": "#2a3f5f",
             "gridcolor": "white",
             "linecolor": "white",
             "minorgridcolor": "white",
             "startlinecolor": "#2a3f5f"
            },
            "baxis": {
             "endlinecolor": "#2a3f5f",
             "gridcolor": "white",
             "linecolor": "white",
             "minorgridcolor": "white",
             "startlinecolor": "#2a3f5f"
            },
            "type": "carpet"
           }
          ],
          "choropleth": [
           {
            "colorbar": {
             "outlinewidth": 0,
             "ticks": ""
            },
            "type": "choropleth"
           }
          ],
          "contour": [
           {
            "colorbar": {
             "outlinewidth": 0,
             "ticks": ""
            },
            "colorscale": [
             [
              0,
              "#0d0887"
             ],
             [
              0.1111111111111111,
              "#46039f"
             ],
             [
              0.2222222222222222,
              "#7201a8"
             ],
             [
              0.3333333333333333,
              "#9c179e"
             ],
             [
              0.4444444444444444,
              "#bd3786"
             ],
             [
              0.5555555555555556,
              "#d8576b"
             ],
             [
              0.6666666666666666,
              "#ed7953"
             ],
             [
              0.7777777777777778,
              "#fb9f3a"
             ],
             [
              0.8888888888888888,
              "#fdca26"
             ],
             [
              1,
              "#f0f921"
             ]
            ],
            "type": "contour"
           }
          ],
          "contourcarpet": [
           {
            "colorbar": {
             "outlinewidth": 0,
             "ticks": ""
            },
            "type": "contourcarpet"
           }
          ],
          "heatmap": [
           {
            "colorbar": {
             "outlinewidth": 0,
             "ticks": ""
            },
            "colorscale": [
             [
              0,
              "#0d0887"
             ],
             [
              0.1111111111111111,
              "#46039f"
             ],
             [
              0.2222222222222222,
              "#7201a8"
             ],
             [
              0.3333333333333333,
              "#9c179e"
             ],
             [
              0.4444444444444444,
              "#bd3786"
             ],
             [
              0.5555555555555556,
              "#d8576b"
             ],
             [
              0.6666666666666666,
              "#ed7953"
             ],
             [
              0.7777777777777778,
              "#fb9f3a"
             ],
             [
              0.8888888888888888,
              "#fdca26"
             ],
             [
              1,
              "#f0f921"
             ]
            ],
            "type": "heatmap"
           }
          ],
          "heatmapgl": [
           {
            "colorbar": {
             "outlinewidth": 0,
             "ticks": ""
            },
            "colorscale": [
             [
              0,
              "#0d0887"
             ],
             [
              0.1111111111111111,
              "#46039f"
             ],
             [
              0.2222222222222222,
              "#7201a8"
             ],
             [
              0.3333333333333333,
              "#9c179e"
             ],
             [
              0.4444444444444444,
              "#bd3786"
             ],
             [
              0.5555555555555556,
              "#d8576b"
             ],
             [
              0.6666666666666666,
              "#ed7953"
             ],
             [
              0.7777777777777778,
              "#fb9f3a"
             ],
             [
              0.8888888888888888,
              "#fdca26"
             ],
             [
              1,
              "#f0f921"
             ]
            ],
            "type": "heatmapgl"
           }
          ],
          "histogram": [
           {
            "marker": {
             "colorbar": {
              "outlinewidth": 0,
              "ticks": ""
             }
            },
            "type": "histogram"
           }
          ],
          "histogram2d": [
           {
            "colorbar": {
             "outlinewidth": 0,
             "ticks": ""
            },
            "colorscale": [
             [
              0,
              "#0d0887"
             ],
             [
              0.1111111111111111,
              "#46039f"
             ],
             [
              0.2222222222222222,
              "#7201a8"
             ],
             [
              0.3333333333333333,
              "#9c179e"
             ],
             [
              0.4444444444444444,
              "#bd3786"
             ],
             [
              0.5555555555555556,
              "#d8576b"
             ],
             [
              0.6666666666666666,
              "#ed7953"
             ],
             [
              0.7777777777777778,
              "#fb9f3a"
             ],
             [
              0.8888888888888888,
              "#fdca26"
             ],
             [
              1,
              "#f0f921"
             ]
            ],
            "type": "histogram2d"
           }
          ],
          "histogram2dcontour": [
           {
            "colorbar": {
             "outlinewidth": 0,
             "ticks": ""
            },
            "colorscale": [
             [
              0,
              "#0d0887"
             ],
             [
              0.1111111111111111,
              "#46039f"
             ],
             [
              0.2222222222222222,
              "#7201a8"
             ],
             [
              0.3333333333333333,
              "#9c179e"
             ],
             [
              0.4444444444444444,
              "#bd3786"
             ],
             [
              0.5555555555555556,
              "#d8576b"
             ],
             [
              0.6666666666666666,
              "#ed7953"
             ],
             [
              0.7777777777777778,
              "#fb9f3a"
             ],
             [
              0.8888888888888888,
              "#fdca26"
             ],
             [
              1,
              "#f0f921"
             ]
            ],
            "type": "histogram2dcontour"
           }
          ],
          "mesh3d": [
           {
            "colorbar": {
             "outlinewidth": 0,
             "ticks": ""
            },
            "type": "mesh3d"
           }
          ],
          "parcoords": [
           {
            "line": {
             "colorbar": {
              "outlinewidth": 0,
              "ticks": ""
             }
            },
            "type": "parcoords"
           }
          ],
          "pie": [
           {
            "automargin": true,
            "type": "pie"
           }
          ],
          "scatter": [
           {
            "marker": {
             "colorbar": {
              "outlinewidth": 0,
              "ticks": ""
             }
            },
            "type": "scatter"
           }
          ],
          "scatter3d": [
           {
            "line": {
             "colorbar": {
              "outlinewidth": 0,
              "ticks": ""
             }
            },
            "marker": {
             "colorbar": {
              "outlinewidth": 0,
              "ticks": ""
             }
            },
            "type": "scatter3d"
           }
          ],
          "scattercarpet": [
           {
            "marker": {
             "colorbar": {
              "outlinewidth": 0,
              "ticks": ""
             }
            },
            "type": "scattercarpet"
           }
          ],
          "scattergeo": [
           {
            "marker": {
             "colorbar": {
              "outlinewidth": 0,
              "ticks": ""
             }
            },
            "type": "scattergeo"
           }
          ],
          "scattergl": [
           {
            "marker": {
             "colorbar": {
              "outlinewidth": 0,
              "ticks": ""
             }
            },
            "type": "scattergl"
           }
          ],
          "scattermapbox": [
           {
            "marker": {
             "colorbar": {
              "outlinewidth": 0,
              "ticks": ""
             }
            },
            "type": "scattermapbox"
           }
          ],
          "scatterpolar": [
           {
            "marker": {
             "colorbar": {
              "outlinewidth": 0,
              "ticks": ""
             }
            },
            "type": "scatterpolar"
           }
          ],
          "scatterpolargl": [
           {
            "marker": {
             "colorbar": {
              "outlinewidth": 0,
              "ticks": ""
             }
            },
            "type": "scatterpolargl"
           }
          ],
          "scatterternary": [
           {
            "marker": {
             "colorbar": {
              "outlinewidth": 0,
              "ticks": ""
             }
            },
            "type": "scatterternary"
           }
          ],
          "surface": [
           {
            "colorbar": {
             "outlinewidth": 0,
             "ticks": ""
            },
            "colorscale": [
             [
              0,
              "#0d0887"
             ],
             [
              0.1111111111111111,
              "#46039f"
             ],
             [
              0.2222222222222222,
              "#7201a8"
             ],
             [
              0.3333333333333333,
              "#9c179e"
             ],
             [
              0.4444444444444444,
              "#bd3786"
             ],
             [
              0.5555555555555556,
              "#d8576b"
             ],
             [
              0.6666666666666666,
              "#ed7953"
             ],
             [
              0.7777777777777778,
              "#fb9f3a"
             ],
             [
              0.8888888888888888,
              "#fdca26"
             ],
             [
              1,
              "#f0f921"
             ]
            ],
            "type": "surface"
           }
          ],
          "table": [
           {
            "cells": {
             "fill": {
              "color": "#EBF0F8"
             },
             "line": {
              "color": "white"
             }
            },
            "header": {
             "fill": {
              "color": "#C8D4E3"
             },
             "line": {
              "color": "white"
             }
            },
            "type": "table"
           }
          ]
         },
         "layout": {
          "annotationdefaults": {
           "arrowcolor": "#2a3f5f",
           "arrowhead": 0,
           "arrowwidth": 1
          },
          "coloraxis": {
           "colorbar": {
            "outlinewidth": 0,
            "ticks": ""
           }
          },
          "colorscale": {
           "diverging": [
            [
             0,
             "#8e0152"
            ],
            [
             0.1,
             "#c51b7d"
            ],
            [
             0.2,
             "#de77ae"
            ],
            [
             0.3,
             "#f1b6da"
            ],
            [
             0.4,
             "#fde0ef"
            ],
            [
             0.5,
             "#f7f7f7"
            ],
            [
             0.6,
             "#e6f5d0"
            ],
            [
             0.7,
             "#b8e186"
            ],
            [
             0.8,
             "#7fbc41"
            ],
            [
             0.9,
             "#4d9221"
            ],
            [
             1,
             "#276419"
            ]
           ],
           "sequential": [
            [
             0,
             "#0d0887"
            ],
            [
             0.1111111111111111,
             "#46039f"
            ],
            [
             0.2222222222222222,
             "#7201a8"
            ],
            [
             0.3333333333333333,
             "#9c179e"
            ],
            [
             0.4444444444444444,
             "#bd3786"
            ],
            [
             0.5555555555555556,
             "#d8576b"
            ],
            [
             0.6666666666666666,
             "#ed7953"
            ],
            [
             0.7777777777777778,
             "#fb9f3a"
            ],
            [
             0.8888888888888888,
             "#fdca26"
            ],
            [
             1,
             "#f0f921"
            ]
           ],
           "sequentialminus": [
            [
             0,
             "#0d0887"
            ],
            [
             0.1111111111111111,
             "#46039f"
            ],
            [
             0.2222222222222222,
             "#7201a8"
            ],
            [
             0.3333333333333333,
             "#9c179e"
            ],
            [
             0.4444444444444444,
             "#bd3786"
            ],
            [
             0.5555555555555556,
             "#d8576b"
            ],
            [
             0.6666666666666666,
             "#ed7953"
            ],
            [
             0.7777777777777778,
             "#fb9f3a"
            ],
            [
             0.8888888888888888,
             "#fdca26"
            ],
            [
             1,
             "#f0f921"
            ]
           ]
          },
          "colorway": [
           "#636efa",
           "#EF553B",
           "#00cc96",
           "#ab63fa",
           "#FFA15A",
           "#19d3f3",
           "#FF6692",
           "#B6E880",
           "#FF97FF",
           "#FECB52"
          ],
          "font": {
           "color": "#2a3f5f"
          },
          "geo": {
           "bgcolor": "white",
           "lakecolor": "white",
           "landcolor": "#E5ECF6",
           "showlakes": true,
           "showland": true,
           "subunitcolor": "white"
          },
          "hoverlabel": {
           "align": "left"
          },
          "hovermode": "closest",
          "mapbox": {
           "style": "light"
          },
          "paper_bgcolor": "white",
          "plot_bgcolor": "#E5ECF6",
          "polar": {
           "angularaxis": {
            "gridcolor": "white",
            "linecolor": "white",
            "ticks": ""
           },
           "bgcolor": "#E5ECF6",
           "radialaxis": {
            "gridcolor": "white",
            "linecolor": "white",
            "ticks": ""
           }
          },
          "scene": {
           "xaxis": {
            "backgroundcolor": "#E5ECF6",
            "gridcolor": "white",
            "gridwidth": 2,
            "linecolor": "white",
            "showbackground": true,
            "ticks": "",
            "zerolinecolor": "white"
           },
           "yaxis": {
            "backgroundcolor": "#E5ECF6",
            "gridcolor": "white",
            "gridwidth": 2,
            "linecolor": "white",
            "showbackground": true,
            "ticks": "",
            "zerolinecolor": "white"
           },
           "zaxis": {
            "backgroundcolor": "#E5ECF6",
            "gridcolor": "white",
            "gridwidth": 2,
            "linecolor": "white",
            "showbackground": true,
            "ticks": "",
            "zerolinecolor": "white"
           }
          },
          "shapedefaults": {
           "line": {
            "color": "#2a3f5f"
           }
          },
          "ternary": {
           "aaxis": {
            "gridcolor": "white",
            "linecolor": "white",
            "ticks": ""
           },
           "baxis": {
            "gridcolor": "white",
            "linecolor": "white",
            "ticks": ""
           },
           "bgcolor": "#E5ECF6",
           "caxis": {
            "gridcolor": "white",
            "linecolor": "white",
            "ticks": ""
           }
          },
          "title": {
           "x": 0.05
          },
          "xaxis": {
           "automargin": true,
           "gridcolor": "white",
           "linecolor": "white",
           "ticks": "",
           "title": {
            "standoff": 15
           },
           "zerolinecolor": "white",
           "zerolinewidth": 2
          },
          "yaxis": {
           "automargin": true,
           "gridcolor": "white",
           "linecolor": "white",
           "ticks": "",
           "title": {
            "standoff": 15
           },
           "zerolinecolor": "white",
           "zerolinewidth": 2
          }
         }
        },
        "xaxis": {
         "anchor": "y",
         "domain": [
          0,
          1
         ]
        },
        "yaxis": {
         "anchor": "x",
         "domain": [
          0,
          1
         ],
         "title": {
          "text": "Total"
         }
        }
       }
      },
      "text/html": "<div>\n        \n        \n            <div id=\"f3b9a668-8646-4558-9b62-075ae76867be\" class=\"plotly-graph-div\" style=\"height:525px; width:100%;\"></div>\n            <script type=\"text/javascript\">\n                require([\"plotly\"], function(Plotly) {\n                    window.PLOTLYENV=window.PLOTLYENV || {};\n                    \n                if (document.getElementById(\"f3b9a668-8646-4558-9b62-075ae76867be\")) {\n                    Plotly.newPlot(\n                        'f3b9a668-8646-4558-9b62-075ae76867be',\n                        [{\"hovertemplate\": \"Total=%{y}<extra></extra>\", \"legendgroup\": \"\", \"line\": {\"color\": \"#636efa\", \"dash\": \"solid\"}, \"mode\": \"lines\", \"name\": \"\", \"showlegend\": false, \"type\": \"scatter\", \"xaxis\": \"x\", \"y\": [163, 518, 519, 297, 246, 309, 195, 245, 249, 251, 187, 332, 360, 448, 497, 136, 126, 269, 122, 362, 176, 436, 157, 473, 109, 410, 134, 203, 385, 352, 123, 237, 293, 210, 257, 403, 135, 380, 202, 559, 497, 189, 351, 337, 218, 130, 221, 293, 121, 101, 181, 147, 473, 83, 217, 242, 432, 254, 101, 245, 271, 568, 216, 59, 416, 195, 527, 244, 434, 264, 84, 159, 206, 159, 496, 267, 295, 151, 192, 161, 446, 199, 447, 589, 451, 116, 556, 130, 559, 245, 265, 274, 276, 164, 542, 249, 435, 104, 327, 335, 514, 298, 486, 115, 128, 428, 319, 153, 385, 77, 375, 343, 216, 281, 235, 158, 553, 527, 517, 187, 447, 209, 315, 52, 518, 188, 206, 111, 372, 266, 316, 227, 443, 198, 530, 85, 571, 276, 249, 283, 279, 289, 296, 209, 268, 200, 116, 432, 254, 213, 91, 249, 363, 246, 539, 258, 332, 313, 575, 640, 250, 285, 128, 254, 312, 251, 286, 212, 118, 182, 377, 323, 520, 30, 637, 419, 202, 464, 230, 114, 440, 391, 112, 598, 209, 306, 258, 286, 108, 194, 235, 380, 184, 482, 285, 433, 213, 124, 212, 142, 159, 339, 222, 302, 286, 219, 174, 423, 278, 526, 61, 408, 318, 217, 156, 315, 216, 415, 454, 139, 224, 118, 539, 214, 425, 277, 239, 598, 189, 197, 366, 122, 472, 284, 387, 162, 370, 238, 311, 180, 252, 363, 343, 303, 381, 199, 246, 242, 370, 311, 563, 132, 174, 211, 403, 196, 307, 228, 530, 535, 166, 366, 243, 327, 196, 418, 234, 80, 325, 427, 517, 163, 169, 358, 250, 154, 300, 46, 438, 324, 169, 487, 38, 245, 103, 289, 132, 717, 233, 360, 360, 299, 429, 134, 330, 47, 211, 94, 442, 121, 267, 47, 153, 328, 373, 43, 313, 179, 447, 412, 4, 499, 161, 328, 264, 337, 380, 182, 200, 230, 184, 162, 460, 96, 427, 239, 445, 378, 389, 265, 265, 297, 264, 293, 193, 80, 476, 215, 278, 289, 6, 104, 166, 594, 6, 392, 133, 458, 218, 229, 312, 640, 543, 190, 269, 303, 166, 219, 236, 331, 436, 329, 332, 404, 89, 391, 377, 186, 200, 405, 380, 308, 266, 404, 357, 183, 534, 72, 507, 13, 248, 232, 533, 309, 227, 326, 357, 415, 170, 372, 224, 550, 300, 90, 532, 51, 445, 221, 277, 291, 468, 171, 543, 313, 237, 355, 303, 224, 413, 229, 392, 438, 364, 369, 123, 280, 97, 260, 219, 504, 220, 375, 540, 201, 316, 460, 10, 519, 86, 567, 353, 284, 248, 360, 384, 372, 259, 199, 368, 485, 210, 296, 271, 274, 293, 239, 509, 344, 503, 211, 323, 412, 19, 244, 501, 344, 206, 100, 176, 318, 157, 145, 251, 435, 156, 385, 218, 288, 234, 329, 119, 375, 409, 193, 319, 96, 249, 341, 294, 416, 136, 526, 233, 640, 288, 112, 202, 218, 265, 261, 205, 279, 366, 150, 325, 259, 215, 184, 130, 139, 627, 543, 415, 195, 365, 87, 610, 282, 389, 121, 225, 189, 342, 402, 214, 323, 403, 429, 224, 414, 154, 502, 269, 521, 368, 14, 616, 239, 195, 46, 213, 215, 417, 407, 509, 229, 225, 198, 280, 483, 261, 109, 466, 597, 404, 163, 342, 249, 429, 188, 520, 345, 280, 274, 179, 402, 171, 576, 161, 230, 208, 472, 109, 211, 467, 549, 376, 375, 351, 487, 241, 164, 363, 154, 371, 328, 106, 316, 308, 462, 258, 286, 194, 106, 286, 184, 124, 320, 183, 579, 577, 197, 158, 317, 443, 328, 36, 331, 219, 486, 195, 442, 109, 269, 465, 417, 153], \"yaxis\": \"y\"}],\n                        {\"legend\": {\"tracegroupgap\": 0}, \"margin\": {\"t\": 60}, \"template\": {\"data\": {\"bar\": [{\"error_x\": {\"color\": \"#2a3f5f\"}, \"error_y\": {\"color\": \"#2a3f5f\"}, \"marker\": {\"line\": {\"color\": \"#E5ECF6\", \"width\": 0.5}}, \"type\": \"bar\"}], \"barpolar\": [{\"marker\": {\"line\": {\"color\": \"#E5ECF6\", \"width\": 0.5}}, \"type\": \"barpolar\"}], \"carpet\": [{\"aaxis\": {\"endlinecolor\": \"#2a3f5f\", \"gridcolor\": \"white\", \"linecolor\": \"white\", \"minorgridcolor\": \"white\", \"startlinecolor\": \"#2a3f5f\"}, \"baxis\": {\"endlinecolor\": \"#2a3f5f\", \"gridcolor\": \"white\", \"linecolor\": \"white\", \"minorgridcolor\": \"white\", \"startlinecolor\": \"#2a3f5f\"}, \"type\": \"carpet\"}], \"choropleth\": [{\"colorbar\": {\"outlinewidth\": 0, \"ticks\": \"\"}, \"type\": \"choropleth\"}], \"contour\": [{\"colorbar\": {\"outlinewidth\": 0, \"ticks\": \"\"}, \"colorscale\": [[0.0, \"#0d0887\"], [0.1111111111111111, \"#46039f\"], [0.2222222222222222, \"#7201a8\"], [0.3333333333333333, \"#9c179e\"], [0.4444444444444444, \"#bd3786\"], [0.5555555555555556, \"#d8576b\"], [0.6666666666666666, \"#ed7953\"], [0.7777777777777778, \"#fb9f3a\"], [0.8888888888888888, \"#fdca26\"], [1.0, \"#f0f921\"]], \"type\": \"contour\"}], \"contourcarpet\": [{\"colorbar\": {\"outlinewidth\": 0, \"ticks\": \"\"}, \"type\": \"contourcarpet\"}], \"heatmap\": [{\"colorbar\": {\"outlinewidth\": 0, \"ticks\": \"\"}, \"colorscale\": [[0.0, \"#0d0887\"], [0.1111111111111111, \"#46039f\"], [0.2222222222222222, \"#7201a8\"], [0.3333333333333333, \"#9c179e\"], [0.4444444444444444, \"#bd3786\"], [0.5555555555555556, \"#d8576b\"], [0.6666666666666666, \"#ed7953\"], [0.7777777777777778, \"#fb9f3a\"], [0.8888888888888888, \"#fdca26\"], [1.0, \"#f0f921\"]], \"type\": \"heatmap\"}], \"heatmapgl\": [{\"colorbar\": {\"outlinewidth\": 0, \"ticks\": \"\"}, \"colorscale\": [[0.0, \"#0d0887\"], [0.1111111111111111, \"#46039f\"], [0.2222222222222222, \"#7201a8\"], [0.3333333333333333, \"#9c179e\"], [0.4444444444444444, \"#bd3786\"], [0.5555555555555556, \"#d8576b\"], [0.6666666666666666, \"#ed7953\"], [0.7777777777777778, \"#fb9f3a\"], [0.8888888888888888, \"#fdca26\"], [1.0, \"#f0f921\"]], \"type\": \"heatmapgl\"}], \"histogram\": [{\"marker\": {\"colorbar\": {\"outlinewidth\": 0, \"ticks\": \"\"}}, \"type\": \"histogram\"}], \"histogram2d\": [{\"colorbar\": {\"outlinewidth\": 0, \"ticks\": \"\"}, \"colorscale\": [[0.0, \"#0d0887\"], [0.1111111111111111, \"#46039f\"], [0.2222222222222222, \"#7201a8\"], [0.3333333333333333, \"#9c179e\"], [0.4444444444444444, \"#bd3786\"], [0.5555555555555556, \"#d8576b\"], [0.6666666666666666, \"#ed7953\"], [0.7777777777777778, \"#fb9f3a\"], [0.8888888888888888, \"#fdca26\"], [1.0, \"#f0f921\"]], \"type\": \"histogram2d\"}], \"histogram2dcontour\": [{\"colorbar\": {\"outlinewidth\": 0, \"ticks\": \"\"}, \"colorscale\": [[0.0, \"#0d0887\"], [0.1111111111111111, \"#46039f\"], [0.2222222222222222, \"#7201a8\"], [0.3333333333333333, \"#9c179e\"], [0.4444444444444444, \"#bd3786\"], [0.5555555555555556, \"#d8576b\"], [0.6666666666666666, \"#ed7953\"], [0.7777777777777778, \"#fb9f3a\"], [0.8888888888888888, \"#fdca26\"], [1.0, \"#f0f921\"]], \"type\": \"histogram2dcontour\"}], \"mesh3d\": [{\"colorbar\": {\"outlinewidth\": 0, \"ticks\": \"\"}, \"type\": \"mesh3d\"}], \"parcoords\": [{\"line\": {\"colorbar\": {\"outlinewidth\": 0, \"ticks\": \"\"}}, \"type\": \"parcoords\"}], \"pie\": [{\"automargin\": true, \"type\": \"pie\"}], \"scatter\": [{\"marker\": {\"colorbar\": {\"outlinewidth\": 0, \"ticks\": \"\"}}, \"type\": \"scatter\"}], \"scatter3d\": [{\"line\": {\"colorbar\": {\"outlinewidth\": 0, \"ticks\": \"\"}}, \"marker\": {\"colorbar\": {\"outlinewidth\": 0, \"ticks\": \"\"}}, \"type\": \"scatter3d\"}], \"scattercarpet\": [{\"marker\": {\"colorbar\": {\"outlinewidth\": 0, \"ticks\": \"\"}}, \"type\": \"scattercarpet\"}], \"scattergeo\": [{\"marker\": {\"colorbar\": {\"outlinewidth\": 0, \"ticks\": \"\"}}, \"type\": \"scattergeo\"}], \"scattergl\": [{\"marker\": {\"colorbar\": {\"outlinewidth\": 0, \"ticks\": \"\"}}, \"type\": \"scattergl\"}], \"scattermapbox\": [{\"marker\": {\"colorbar\": {\"outlinewidth\": 0, \"ticks\": \"\"}}, \"type\": \"scattermapbox\"}], \"scatterpolar\": [{\"marker\": {\"colorbar\": {\"outlinewidth\": 0, \"ticks\": \"\"}}, \"type\": \"scatterpolar\"}], \"scatterpolargl\": [{\"marker\": {\"colorbar\": {\"outlinewidth\": 0, \"ticks\": \"\"}}, \"type\": \"scatterpolargl\"}], \"scatterternary\": [{\"marker\": {\"colorbar\": {\"outlinewidth\": 0, \"ticks\": \"\"}}, \"type\": \"scatterternary\"}], \"surface\": [{\"colorbar\": {\"outlinewidth\": 0, \"ticks\": \"\"}, \"colorscale\": [[0.0, \"#0d0887\"], [0.1111111111111111, \"#46039f\"], [0.2222222222222222, \"#7201a8\"], [0.3333333333333333, \"#9c179e\"], [0.4444444444444444, \"#bd3786\"], [0.5555555555555556, \"#d8576b\"], [0.6666666666666666, \"#ed7953\"], [0.7777777777777778, \"#fb9f3a\"], [0.8888888888888888, \"#fdca26\"], [1.0, \"#f0f921\"]], \"type\": \"surface\"}], \"table\": [{\"cells\": {\"fill\": {\"color\": \"#EBF0F8\"}, \"line\": {\"color\": \"white\"}}, \"header\": {\"fill\": {\"color\": \"#C8D4E3\"}, \"line\": {\"color\": \"white\"}}, \"type\": \"table\"}]}, \"layout\": {\"annotationdefaults\": {\"arrowcolor\": \"#2a3f5f\", \"arrowhead\": 0, \"arrowwidth\": 1}, \"coloraxis\": {\"colorbar\": {\"outlinewidth\": 0, \"ticks\": \"\"}}, \"colorscale\": {\"diverging\": [[0, \"#8e0152\"], [0.1, \"#c51b7d\"], [0.2, \"#de77ae\"], [0.3, \"#f1b6da\"], [0.4, \"#fde0ef\"], [0.5, \"#f7f7f7\"], [0.6, \"#e6f5d0\"], [0.7, \"#b8e186\"], [0.8, \"#7fbc41\"], [0.9, \"#4d9221\"], [1, \"#276419\"]], \"sequential\": [[0.0, \"#0d0887\"], [0.1111111111111111, \"#46039f\"], [0.2222222222222222, \"#7201a8\"], [0.3333333333333333, \"#9c179e\"], [0.4444444444444444, \"#bd3786\"], [0.5555555555555556, \"#d8576b\"], [0.6666666666666666, \"#ed7953\"], [0.7777777777777778, \"#fb9f3a\"], [0.8888888888888888, \"#fdca26\"], [1.0, \"#f0f921\"]], \"sequentialminus\": [[0.0, \"#0d0887\"], [0.1111111111111111, \"#46039f\"], [0.2222222222222222, \"#7201a8\"], [0.3333333333333333, \"#9c179e\"], [0.4444444444444444, \"#bd3786\"], [0.5555555555555556, \"#d8576b\"], [0.6666666666666666, \"#ed7953\"], [0.7777777777777778, \"#fb9f3a\"], [0.8888888888888888, \"#fdca26\"], [1.0, \"#f0f921\"]]}, \"colorway\": [\"#636efa\", \"#EF553B\", \"#00cc96\", \"#ab63fa\", \"#FFA15A\", \"#19d3f3\", \"#FF6692\", \"#B6E880\", \"#FF97FF\", \"#FECB52\"], \"font\": {\"color\": \"#2a3f5f\"}, \"geo\": {\"bgcolor\": \"white\", \"lakecolor\": \"white\", \"landcolor\": \"#E5ECF6\", \"showlakes\": true, \"showland\": true, \"subunitcolor\": \"white\"}, \"hoverlabel\": {\"align\": \"left\"}, \"hovermode\": \"closest\", \"mapbox\": {\"style\": \"light\"}, \"paper_bgcolor\": \"white\", \"plot_bgcolor\": \"#E5ECF6\", \"polar\": {\"angularaxis\": {\"gridcolor\": \"white\", \"linecolor\": \"white\", \"ticks\": \"\"}, \"bgcolor\": \"#E5ECF6\", \"radialaxis\": {\"gridcolor\": \"white\", \"linecolor\": \"white\", \"ticks\": \"\"}}, \"scene\": {\"xaxis\": {\"backgroundcolor\": \"#E5ECF6\", \"gridcolor\": \"white\", \"gridwidth\": 2, \"linecolor\": \"white\", \"showbackground\": true, \"ticks\": \"\", \"zerolinecolor\": \"white\"}, \"yaxis\": {\"backgroundcolor\": \"#E5ECF6\", \"gridcolor\": \"white\", \"gridwidth\": 2, \"linecolor\": \"white\", \"showbackground\": true, \"ticks\": \"\", \"zerolinecolor\": \"white\"}, \"zaxis\": {\"backgroundcolor\": \"#E5ECF6\", \"gridcolor\": \"white\", \"gridwidth\": 2, \"linecolor\": \"white\", \"showbackground\": true, \"ticks\": \"\", \"zerolinecolor\": \"white\"}}, \"shapedefaults\": {\"line\": {\"color\": \"#2a3f5f\"}}, \"ternary\": {\"aaxis\": {\"gridcolor\": \"white\", \"linecolor\": \"white\", \"ticks\": \"\"}, \"baxis\": {\"gridcolor\": \"white\", \"linecolor\": \"white\", \"ticks\": \"\"}, \"bgcolor\": \"#E5ECF6\", \"caxis\": {\"gridcolor\": \"white\", \"linecolor\": \"white\", \"ticks\": \"\"}}, \"title\": {\"x\": 0.05}, \"xaxis\": {\"automargin\": true, \"gridcolor\": \"white\", \"linecolor\": \"white\", \"ticks\": \"\", \"title\": {\"standoff\": 15}, \"zerolinecolor\": \"white\", \"zerolinewidth\": 2}, \"yaxis\": {\"automargin\": true, \"gridcolor\": \"white\", \"linecolor\": \"white\", \"ticks\": \"\", \"title\": {\"standoff\": 15}, \"zerolinecolor\": \"white\", \"zerolinewidth\": 2}}}, \"xaxis\": {\"anchor\": \"y\", \"domain\": [0.0, 1.0]}, \"yaxis\": {\"anchor\": \"x\", \"domain\": [0.0, 1.0], \"title\": {\"text\": \"Total\"}}},\n                        {\"responsive\": true}\n                    ).then(function(){\n                            \nvar gd = document.getElementById('f3b9a668-8646-4558-9b62-075ae76867be');\nvar x = new MutationObserver(function (mutations, observer) {{\n        var display = window.getComputedStyle(gd).display;\n        if (!display || display === 'none') {{\n            console.log([gd, 'removed!']);\n            Plotly.purge(gd);\n            observer.disconnect();\n        }}\n}});\n\n// Listen for the removal of the full notebook cells\nvar notebookContainer = gd.closest('#notebook-container');\nif (notebookContainer) {{\n    x.observe(notebookContainer, {childList: true});\n}}\n\n// Listen for the clearing of the current output cell\nvar outputEl = gd.closest('.output');\nif (outputEl) {{\n    x.observe(outputEl, {childList: true});\n}}\n\n                        })\n                };\n                });\n            </script>\n        </div>"
     },
     "metadata": {}
    }
   ],
   "source": [
    "import plotly.express as px\n",
    "\n",
    "fig = px.line(totals, y=\"Total\")\n",
    "fig.show()"
   ]
  },
  {
   "cell_type": "code",
   "execution_count": 29,
   "metadata": {},
   "outputs": [
    {
     "output_type": "display_data",
     "data": {
      "application/vnd.plotly.v1+json": {
       "config": {
        "plotlyServerURL": "https://plot.ly"
       },
       "data": [
        {
         "hovertemplate": "0=%{y}<extra></extra>",
         "legendgroup": "",
         "line": {
          "color": "#636efa",
          "dash": "solid"
         },
         "mode": "lines",
         "name": "",
         "showlegend": false,
         "type": "scatter",
         "xaxis": "x",
         "y": [
          163,
          518,
          519,
          297,
          246,
          309,
          195,
          245,
          249,
          251,
          187,
          332,
          360,
          448,
          497,
          136,
          126,
          269,
          122,
          362,
          176,
          436,
          157,
          473,
          109,
          410,
          134,
          203,
          385,
          352,
          123,
          237,
          293,
          210,
          257,
          403,
          135,
          380,
          202,
          559,
          497,
          189,
          351,
          337,
          218,
          130,
          221,
          293,
          121,
          101,
          181,
          147,
          473,
          83,
          217,
          242,
          432,
          254,
          101,
          245,
          271,
          568,
          216,
          59,
          416,
          195,
          527,
          244,
          434,
          264,
          84,
          159,
          206,
          159,
          496,
          267,
          295,
          151,
          192,
          161,
          446,
          199,
          447,
          589,
          451,
          116,
          556,
          130,
          559,
          245,
          265,
          274,
          276,
          164,
          542,
          249,
          435,
          104,
          327,
          335,
          514,
          298,
          486,
          115,
          128,
          428,
          319,
          153,
          385,
          77,
          375,
          343,
          216,
          281,
          235,
          158,
          553,
          527,
          517,
          187,
          447,
          209,
          315,
          52,
          518,
          188,
          206,
          111,
          372,
          266,
          316,
          227,
          443,
          198,
          530,
          85,
          571,
          276,
          249,
          283,
          279,
          289,
          296,
          209,
          268,
          200,
          116,
          432,
          254,
          213,
          91,
          249,
          363,
          246,
          539,
          258,
          332,
          313,
          575,
          640,
          250,
          285,
          128,
          254,
          312,
          251,
          286,
          212,
          118,
          182,
          377,
          323,
          520,
          30,
          637,
          419,
          202,
          464,
          230,
          114,
          440,
          391,
          112,
          598,
          209,
          306,
          258,
          286,
          108,
          194,
          235,
          380,
          184,
          482,
          285,
          433,
          213,
          124,
          212,
          142,
          159,
          339,
          222,
          302,
          286,
          219,
          174,
          423,
          278,
          526,
          61,
          408,
          318,
          217,
          156,
          315,
          216,
          415,
          454,
          139,
          224,
          118,
          539,
          214,
          425,
          277,
          239,
          598,
          189,
          197,
          366,
          122,
          472,
          284,
          387,
          162,
          370,
          238,
          311,
          180,
          252,
          363,
          343,
          303,
          381,
          199,
          246,
          242,
          370,
          311,
          563,
          132,
          174,
          211,
          403,
          196,
          307,
          228,
          530,
          535,
          166,
          366,
          243,
          327,
          196,
          418,
          234,
          80,
          325,
          427,
          517,
          163,
          169,
          358,
          250,
          154,
          300,
          46,
          438,
          324,
          169,
          487,
          38,
          245,
          103,
          289,
          132,
          717,
          233,
          360,
          360,
          299,
          429,
          134,
          330,
          47,
          211,
          94,
          442,
          121,
          267,
          47,
          153,
          328,
          373,
          43,
          313,
          179,
          447,
          412,
          4,
          499,
          161,
          328,
          264,
          337,
          380,
          182,
          200,
          230,
          184,
          162,
          460,
          96,
          427,
          239,
          445,
          378,
          389,
          265,
          265,
          297,
          264,
          293,
          193,
          80,
          476,
          215,
          278,
          289,
          6,
          104,
          166,
          594,
          6,
          392,
          133,
          458,
          218,
          229,
          312,
          640,
          543,
          190,
          269,
          303,
          166,
          219,
          236,
          331,
          436,
          329,
          332,
          404,
          89,
          391,
          377,
          186,
          200,
          405,
          380,
          308,
          266,
          404,
          357,
          183,
          534,
          72,
          507,
          13,
          248,
          232,
          533,
          309,
          227,
          326,
          357,
          415,
          170,
          372,
          224,
          550,
          300,
          90,
          532,
          51,
          445,
          221,
          277,
          291,
          468,
          171,
          543,
          313,
          237,
          355,
          303,
          224,
          413,
          229,
          392,
          438,
          364,
          369,
          123,
          280,
          97,
          260,
          219,
          504,
          220,
          375,
          540,
          201,
          316,
          460,
          10,
          519,
          86,
          567,
          353,
          284,
          248,
          360,
          384,
          372,
          259,
          199,
          368,
          485,
          210,
          296,
          271,
          274,
          293,
          239,
          509,
          344,
          503,
          211,
          323,
          412,
          19,
          244,
          501,
          344,
          206,
          100,
          176,
          318,
          157,
          145,
          251,
          435,
          156,
          385,
          218,
          288,
          234,
          329,
          119,
          375,
          409,
          193,
          319,
          96,
          249,
          341,
          294,
          416,
          136,
          526,
          233,
          640,
          288,
          112,
          202,
          218,
          265,
          261,
          205,
          279,
          366,
          150,
          325,
          259,
          215,
          184,
          130,
          139,
          627,
          543,
          415,
          195,
          365,
          87,
          610,
          282,
          389,
          121,
          225,
          189,
          342,
          402,
          214,
          323,
          403,
          429,
          224,
          414,
          154,
          502,
          269,
          521,
          368,
          14,
          616,
          239,
          195,
          46,
          213,
          215,
          417,
          407,
          509,
          229,
          225,
          198,
          280,
          483,
          261,
          109,
          466,
          597,
          404,
          163,
          342,
          249,
          429,
          188,
          520,
          345,
          280,
          274,
          179,
          402,
          171,
          576,
          161,
          230,
          208,
          472,
          109,
          211,
          467,
          549,
          376,
          375,
          351,
          487,
          241,
          164,
          363,
          154,
          371,
          328,
          106,
          316,
          308,
          462,
          258,
          286,
          194,
          106,
          286,
          184,
          124,
          320,
          183,
          579,
          577,
          197,
          158,
          317,
          443,
          328,
          36,
          331,
          219,
          486,
          195,
          442,
          109,
          269,
          465,
          417,
          153
         ],
         "yaxis": "y"
        }
       ],
       "layout": {
        "legend": {
         "tracegroupgap": 0
        },
        "margin": {
         "t": 60
        },
        "template": {
         "data": {
          "bar": [
           {
            "error_x": {
             "color": "#2a3f5f"
            },
            "error_y": {
             "color": "#2a3f5f"
            },
            "marker": {
             "line": {
              "color": "#E5ECF6",
              "width": 0.5
             }
            },
            "type": "bar"
           }
          ],
          "barpolar": [
           {
            "marker": {
             "line": {
              "color": "#E5ECF6",
              "width": 0.5
             }
            },
            "type": "barpolar"
           }
          ],
          "carpet": [
           {
            "aaxis": {
             "endlinecolor": "#2a3f5f",
             "gridcolor": "white",
             "linecolor": "white",
             "minorgridcolor": "white",
             "startlinecolor": "#2a3f5f"
            },
            "baxis": {
             "endlinecolor": "#2a3f5f",
             "gridcolor": "white",
             "linecolor": "white",
             "minorgridcolor": "white",
             "startlinecolor": "#2a3f5f"
            },
            "type": "carpet"
           }
          ],
          "choropleth": [
           {
            "colorbar": {
             "outlinewidth": 0,
             "ticks": ""
            },
            "type": "choropleth"
           }
          ],
          "contour": [
           {
            "colorbar": {
             "outlinewidth": 0,
             "ticks": ""
            },
            "colorscale": [
             [
              0,
              "#0d0887"
             ],
             [
              0.1111111111111111,
              "#46039f"
             ],
             [
              0.2222222222222222,
              "#7201a8"
             ],
             [
              0.3333333333333333,
              "#9c179e"
             ],
             [
              0.4444444444444444,
              "#bd3786"
             ],
             [
              0.5555555555555556,
              "#d8576b"
             ],
             [
              0.6666666666666666,
              "#ed7953"
             ],
             [
              0.7777777777777778,
              "#fb9f3a"
             ],
             [
              0.8888888888888888,
              "#fdca26"
             ],
             [
              1,
              "#f0f921"
             ]
            ],
            "type": "contour"
           }
          ],
          "contourcarpet": [
           {
            "colorbar": {
             "outlinewidth": 0,
             "ticks": ""
            },
            "type": "contourcarpet"
           }
          ],
          "heatmap": [
           {
            "colorbar": {
             "outlinewidth": 0,
             "ticks": ""
            },
            "colorscale": [
             [
              0,
              "#0d0887"
             ],
             [
              0.1111111111111111,
              "#46039f"
             ],
             [
              0.2222222222222222,
              "#7201a8"
             ],
             [
              0.3333333333333333,
              "#9c179e"
             ],
             [
              0.4444444444444444,
              "#bd3786"
             ],
             [
              0.5555555555555556,
              "#d8576b"
             ],
             [
              0.6666666666666666,
              "#ed7953"
             ],
             [
              0.7777777777777778,
              "#fb9f3a"
             ],
             [
              0.8888888888888888,
              "#fdca26"
             ],
             [
              1,
              "#f0f921"
             ]
            ],
            "type": "heatmap"
           }
          ],
          "heatmapgl": [
           {
            "colorbar": {
             "outlinewidth": 0,
             "ticks": ""
            },
            "colorscale": [
             [
              0,
              "#0d0887"
             ],
             [
              0.1111111111111111,
              "#46039f"
             ],
             [
              0.2222222222222222,
              "#7201a8"
             ],
             [
              0.3333333333333333,
              "#9c179e"
             ],
             [
              0.4444444444444444,
              "#bd3786"
             ],
             [
              0.5555555555555556,
              "#d8576b"
             ],
             [
              0.6666666666666666,
              "#ed7953"
             ],
             [
              0.7777777777777778,
              "#fb9f3a"
             ],
             [
              0.8888888888888888,
              "#fdca26"
             ],
             [
              1,
              "#f0f921"
             ]
            ],
            "type": "heatmapgl"
           }
          ],
          "histogram": [
           {
            "marker": {
             "colorbar": {
              "outlinewidth": 0,
              "ticks": ""
             }
            },
            "type": "histogram"
           }
          ],
          "histogram2d": [
           {
            "colorbar": {
             "outlinewidth": 0,
             "ticks": ""
            },
            "colorscale": [
             [
              0,
              "#0d0887"
             ],
             [
              0.1111111111111111,
              "#46039f"
             ],
             [
              0.2222222222222222,
              "#7201a8"
             ],
             [
              0.3333333333333333,
              "#9c179e"
             ],
             [
              0.4444444444444444,
              "#bd3786"
             ],
             [
              0.5555555555555556,
              "#d8576b"
             ],
             [
              0.6666666666666666,
              "#ed7953"
             ],
             [
              0.7777777777777778,
              "#fb9f3a"
             ],
             [
              0.8888888888888888,
              "#fdca26"
             ],
             [
              1,
              "#f0f921"
             ]
            ],
            "type": "histogram2d"
           }
          ],
          "histogram2dcontour": [
           {
            "colorbar": {
             "outlinewidth": 0,
             "ticks": ""
            },
            "colorscale": [
             [
              0,
              "#0d0887"
             ],
             [
              0.1111111111111111,
              "#46039f"
             ],
             [
              0.2222222222222222,
              "#7201a8"
             ],
             [
              0.3333333333333333,
              "#9c179e"
             ],
             [
              0.4444444444444444,
              "#bd3786"
             ],
             [
              0.5555555555555556,
              "#d8576b"
             ],
             [
              0.6666666666666666,
              "#ed7953"
             ],
             [
              0.7777777777777778,
              "#fb9f3a"
             ],
             [
              0.8888888888888888,
              "#fdca26"
             ],
             [
              1,
              "#f0f921"
             ]
            ],
            "type": "histogram2dcontour"
           }
          ],
          "mesh3d": [
           {
            "colorbar": {
             "outlinewidth": 0,
             "ticks": ""
            },
            "type": "mesh3d"
           }
          ],
          "parcoords": [
           {
            "line": {
             "colorbar": {
              "outlinewidth": 0,
              "ticks": ""
             }
            },
            "type": "parcoords"
           }
          ],
          "pie": [
           {
            "automargin": true,
            "type": "pie"
           }
          ],
          "scatter": [
           {
            "marker": {
             "colorbar": {
              "outlinewidth": 0,
              "ticks": ""
             }
            },
            "type": "scatter"
           }
          ],
          "scatter3d": [
           {
            "line": {
             "colorbar": {
              "outlinewidth": 0,
              "ticks": ""
             }
            },
            "marker": {
             "colorbar": {
              "outlinewidth": 0,
              "ticks": ""
             }
            },
            "type": "scatter3d"
           }
          ],
          "scattercarpet": [
           {
            "marker": {
             "colorbar": {
              "outlinewidth": 0,
              "ticks": ""
             }
            },
            "type": "scattercarpet"
           }
          ],
          "scattergeo": [
           {
            "marker": {
             "colorbar": {
              "outlinewidth": 0,
              "ticks": ""
             }
            },
            "type": "scattergeo"
           }
          ],
          "scattergl": [
           {
            "marker": {
             "colorbar": {
              "outlinewidth": 0,
              "ticks": ""
             }
            },
            "type": "scattergl"
           }
          ],
          "scattermapbox": [
           {
            "marker": {
             "colorbar": {
              "outlinewidth": 0,
              "ticks": ""
             }
            },
            "type": "scattermapbox"
           }
          ],
          "scatterpolar": [
           {
            "marker": {
             "colorbar": {
              "outlinewidth": 0,
              "ticks": ""
             }
            },
            "type": "scatterpolar"
           }
          ],
          "scatterpolargl": [
           {
            "marker": {
             "colorbar": {
              "outlinewidth": 0,
              "ticks": ""
             }
            },
            "type": "scatterpolargl"
           }
          ],
          "scatterternary": [
           {
            "marker": {
             "colorbar": {
              "outlinewidth": 0,
              "ticks": ""
             }
            },
            "type": "scatterternary"
           }
          ],
          "surface": [
           {
            "colorbar": {
             "outlinewidth": 0,
             "ticks": ""
            },
            "colorscale": [
             [
              0,
              "#0d0887"
             ],
             [
              0.1111111111111111,
              "#46039f"
             ],
             [
              0.2222222222222222,
              "#7201a8"
             ],
             [
              0.3333333333333333,
              "#9c179e"
             ],
             [
              0.4444444444444444,
              "#bd3786"
             ],
             [
              0.5555555555555556,
              "#d8576b"
             ],
             [
              0.6666666666666666,
              "#ed7953"
             ],
             [
              0.7777777777777778,
              "#fb9f3a"
             ],
             [
              0.8888888888888888,
              "#fdca26"
             ],
             [
              1,
              "#f0f921"
             ]
            ],
            "type": "surface"
           }
          ],
          "table": [
           {
            "cells": {
             "fill": {
              "color": "#EBF0F8"
             },
             "line": {
              "color": "white"
             }
            },
            "header": {
             "fill": {
              "color": "#C8D4E3"
             },
             "line": {
              "color": "white"
             }
            },
            "type": "table"
           }
          ]
         },
         "layout": {
          "annotationdefaults": {
           "arrowcolor": "#2a3f5f",
           "arrowhead": 0,
           "arrowwidth": 1
          },
          "coloraxis": {
           "colorbar": {
            "outlinewidth": 0,
            "ticks": ""
           }
          },
          "colorscale": {
           "diverging": [
            [
             0,
             "#8e0152"
            ],
            [
             0.1,
             "#c51b7d"
            ],
            [
             0.2,
             "#de77ae"
            ],
            [
             0.3,
             "#f1b6da"
            ],
            [
             0.4,
             "#fde0ef"
            ],
            [
             0.5,
             "#f7f7f7"
            ],
            [
             0.6,
             "#e6f5d0"
            ],
            [
             0.7,
             "#b8e186"
            ],
            [
             0.8,
             "#7fbc41"
            ],
            [
             0.9,
             "#4d9221"
            ],
            [
             1,
             "#276419"
            ]
           ],
           "sequential": [
            [
             0,
             "#0d0887"
            ],
            [
             0.1111111111111111,
             "#46039f"
            ],
            [
             0.2222222222222222,
             "#7201a8"
            ],
            [
             0.3333333333333333,
             "#9c179e"
            ],
            [
             0.4444444444444444,
             "#bd3786"
            ],
            [
             0.5555555555555556,
             "#d8576b"
            ],
            [
             0.6666666666666666,
             "#ed7953"
            ],
            [
             0.7777777777777778,
             "#fb9f3a"
            ],
            [
             0.8888888888888888,
             "#fdca26"
            ],
            [
             1,
             "#f0f921"
            ]
           ],
           "sequentialminus": [
            [
             0,
             "#0d0887"
            ],
            [
             0.1111111111111111,
             "#46039f"
            ],
            [
             0.2222222222222222,
             "#7201a8"
            ],
            [
             0.3333333333333333,
             "#9c179e"
            ],
            [
             0.4444444444444444,
             "#bd3786"
            ],
            [
             0.5555555555555556,
             "#d8576b"
            ],
            [
             0.6666666666666666,
             "#ed7953"
            ],
            [
             0.7777777777777778,
             "#fb9f3a"
            ],
            [
             0.8888888888888888,
             "#fdca26"
            ],
            [
             1,
             "#f0f921"
            ]
           ]
          },
          "colorway": [
           "#636efa",
           "#EF553B",
           "#00cc96",
           "#ab63fa",
           "#FFA15A",
           "#19d3f3",
           "#FF6692",
           "#B6E880",
           "#FF97FF",
           "#FECB52"
          ],
          "font": {
           "color": "#2a3f5f"
          },
          "geo": {
           "bgcolor": "white",
           "lakecolor": "white",
           "landcolor": "#E5ECF6",
           "showlakes": true,
           "showland": true,
           "subunitcolor": "white"
          },
          "hoverlabel": {
           "align": "left"
          },
          "hovermode": "closest",
          "mapbox": {
           "style": "light"
          },
          "paper_bgcolor": "white",
          "plot_bgcolor": "#E5ECF6",
          "polar": {
           "angularaxis": {
            "gridcolor": "white",
            "linecolor": "white",
            "ticks": ""
           },
           "bgcolor": "#E5ECF6",
           "radialaxis": {
            "gridcolor": "white",
            "linecolor": "white",
            "ticks": ""
           }
          },
          "scene": {
           "xaxis": {
            "backgroundcolor": "#E5ECF6",
            "gridcolor": "white",
            "gridwidth": 2,
            "linecolor": "white",
            "showbackground": true,
            "ticks": "",
            "zerolinecolor": "white"
           },
           "yaxis": {
            "backgroundcolor": "#E5ECF6",
            "gridcolor": "white",
            "gridwidth": 2,
            "linecolor": "white",
            "showbackground": true,
            "ticks": "",
            "zerolinecolor": "white"
           },
           "zaxis": {
            "backgroundcolor": "#E5ECF6",
            "gridcolor": "white",
            "gridwidth": 2,
            "linecolor": "white",
            "showbackground": true,
            "ticks": "",
            "zerolinecolor": "white"
           }
          },
          "shapedefaults": {
           "line": {
            "color": "#2a3f5f"
           }
          },
          "ternary": {
           "aaxis": {
            "gridcolor": "white",
            "linecolor": "white",
            "ticks": ""
           },
           "baxis": {
            "gridcolor": "white",
            "linecolor": "white",
            "ticks": ""
           },
           "bgcolor": "#E5ECF6",
           "caxis": {
            "gridcolor": "white",
            "linecolor": "white",
            "ticks": ""
           }
          },
          "title": {
           "x": 0.05
          },
          "xaxis": {
           "automargin": true,
           "gridcolor": "white",
           "linecolor": "white",
           "ticks": "",
           "title": {
            "standoff": 15
           },
           "zerolinecolor": "white",
           "zerolinewidth": 2
          },
          "yaxis": {
           "automargin": true,
           "gridcolor": "white",
           "linecolor": "white",
           "ticks": "",
           "title": {
            "standoff": 15
           },
           "zerolinecolor": "white",
           "zerolinewidth": 2
          }
         }
        },
        "xaxis": {
         "anchor": "y",
         "domain": [
          0,
          1
         ]
        },
        "yaxis": {
         "anchor": "x",
         "domain": [
          0,
          1
         ],
         "title": {
          "text": "0"
         }
        }
       }
      },
      "text/html": "<div>\n        \n        \n            <div id=\"b342cb1a-a763-4bc8-bcaa-b562bcb97cc3\" class=\"plotly-graph-div\" style=\"height:525px; width:100%;\"></div>\n            <script type=\"text/javascript\">\n                require([\"plotly\"], function(Plotly) {\n                    window.PLOTLYENV=window.PLOTLYENV || {};\n                    \n                if (document.getElementById(\"b342cb1a-a763-4bc8-bcaa-b562bcb97cc3\")) {\n                    Plotly.newPlot(\n                        'b342cb1a-a763-4bc8-bcaa-b562bcb97cc3',\n                        [{\"hovertemplate\": \"0=%{y}<extra></extra>\", \"legendgroup\": \"\", \"line\": {\"color\": \"#636efa\", \"dash\": \"solid\"}, \"mode\": \"lines\", \"name\": \"\", \"showlegend\": false, \"type\": \"scatter\", \"xaxis\": \"x\", \"y\": [163.0, 518.0, 519.0, 297.0, 246.0, 309.0, 195.0, 245.0, 249.0, 251.0, 187.0, 332.0, 360.0, 448.0, 497.0, 136.0, 126.0, 269.0, 122.0, 362.0, 176.0, 436.0, 157.0, 473.0, 109.0, 410.0, 134.0, 203.0, 385.0, 352.0, 123.0, 237.0, 293.0, 210.0, 257.0, 403.0, 135.0, 380.0, 202.0, 559.0, 497.0, 189.0, 351.0, 337.0, 218.0, 130.0, 221.0, 293.0, 121.0, 101.0, 181.0, 147.0, 473.0, 83.0, 217.0, 242.0, 432.0, 254.0, 101.0, 245.0, 271.0, 568.0, 216.0, 59.0, 416.0, 195.0, 527.0, 244.0, 434.0, 264.0, 84.0, 159.0, 206.0, 159.0, 496.0, 267.0, 295.0, 151.0, 192.0, 161.0, 446.0, 199.0, 447.0, 589.0, 451.0, 116.0, 556.0, 130.0, 559.0, 245.0, 265.0, 274.0, 276.0, 164.0, 542.0, 249.0, 435.0, 104.0, 327.0, 335.0, 514.0, 298.0, 486.0, 115.0, 128.0, 428.0, 319.0, 153.0, 385.0, 77.0, 375.0, 343.0, 216.0, 281.0, 235.0, 158.0, 553.0, 527.0, 517.0, 187.0, 447.0, 209.0, 315.0, 52.0, 518.0, 188.0, 206.0, 111.0, 372.0, 266.0, 316.0, 227.0, 443.0, 198.0, 530.0, 85.0, 571.0, 276.0, 249.0, 283.0, 279.0, 289.0, 296.0, 209.0, 268.0, 200.0, 116.0, 432.0, 254.0, 213.0, 91.0, 249.0, 363.0, 246.0, 539.0, 258.0, 332.0, 313.0, 575.0, 640.0, 250.0, 285.0, 128.0, 254.0, 312.0, 251.0, 286.0, 212.0, 118.0, 182.0, 377.0, 323.0, 520.0, 30.0, 637.0, 419.0, 202.0, 464.0, 230.0, 114.0, 440.0, 391.0, 112.0, 598.0, 209.0, 306.0, 258.0, 286.0, 108.0, 194.0, 235.0, 380.0, 184.0, 482.0, 285.0, 433.0, 213.0, 124.0, 212.0, 142.0, 159.0, 339.0, 222.0, 302.0, 286.0, 219.0, 174.0, 423.0, 278.0, 526.0, 61.0, 408.0, 318.0, 217.0, 156.0, 315.0, 216.0, 415.0, 454.0, 139.0, 224.0, 118.0, 539.0, 214.0, 425.0, 277.0, 239.0, 598.0, 189.0, 197.0, 366.0, 122.0, 472.0, 284.0, 387.0, 162.0, 370.0, 238.0, 311.0, 180.0, 252.0, 363.0, 343.0, 303.0, 381.0, 199.0, 246.0, 242.0, 370.0, 311.0, 563.0, 132.0, 174.0, 211.0, 403.0, 196.0, 307.0, 228.0, 530.0, 535.0, 166.0, 366.0, 243.0, 327.0, 196.0, 418.0, 234.0, 80.0, 325.0, 427.0, 517.0, 163.0, 169.0, 358.0, 250.0, 154.0, 300.0, 46.0, 438.0, 324.0, 169.0, 487.0, 38.0, 245.0, 103.0, 289.0, 132.0, 717.0, 233.0, 360.0, 360.0, 299.0, 429.0, 134.0, 330.0, 47.0, 211.0, 94.0, 442.0, 121.0, 267.0, 47.0, 153.0, 328.0, 373.0, 43.0, 313.0, 179.0, 447.0, 412.0, 4.0, 499.0, 161.0, 328.0, 264.0, 337.0, 380.0, 182.0, 200.0, 230.0, 184.0, 162.0, 460.0, 96.0, 427.0, 239.0, 445.0, 378.0, 389.0, 265.0, 265.0, 297.0, 264.0, 293.0, 193.0, 80.0, 476.0, 215.0, 278.0, 289.0, 6.0, 104.0, 166.0, 594.0, 6.0, 392.0, 133.0, 458.0, 218.0, 229.0, 312.0, 640.0, 543.0, 190.0, 269.0, 303.0, 166.0, 219.0, 236.0, 331.0, 436.0, 329.0, 332.0, 404.0, 89.0, 391.0, 377.0, 186.0, 200.0, 405.0, 380.0, 308.0, 266.0, 404.0, 357.0, 183.0, 534.0, 72.0, 507.0, 13.0, 248.0, 232.0, 533.0, 309.0, 227.0, 326.0, 357.0, 415.0, 170.0, 372.0, 224.0, 550.0, 300.0, 90.0, 532.0, 51.0, 445.0, 221.0, 277.0, 291.0, 468.0, 171.0, 543.0, 313.0, 237.0, 355.0, 303.0, 224.0, 413.0, 229.0, 392.0, 438.0, 364.0, 369.0, 123.0, 280.0, 97.0, 260.0, 219.0, 504.0, 220.0, 375.0, 540.0, 201.0, 316.0, 460.0, 10.0, 519.0, 86.0, 567.0, 353.0, 284.0, 248.0, 360.0, 384.0, 372.0, 259.0, 199.0, 368.0, 485.0, 210.0, 296.0, 271.0, 274.0, 293.0, 239.0, 509.0, 344.0, 503.0, 211.0, 323.0, 412.0, 19.0, 244.0, 501.0, 344.0, 206.0, 100.0, 176.0, 318.0, 157.0, 145.0, 251.0, 435.0, 156.0, 385.0, 218.0, 288.0, 234.0, 329.0, 119.0, 375.0, 409.0, 193.0, 319.0, 96.0, 249.0, 341.0, 294.0, 416.0, 136.0, 526.0, 233.0, 640.0, 288.0, 112.0, 202.0, 218.0, 265.0, 261.0, 205.0, 279.0, 366.0, 150.0, 325.0, 259.0, 215.0, 184.0, 130.0, 139.0, 627.0, 543.0, 415.0, 195.0, 365.0, 87.0, 610.0, 282.0, 389.0, 121.0, 225.0, 189.0, 342.0, 402.0, 214.0, 323.0, 403.0, 429.0, 224.0, 414.0, 154.0, 502.0, 269.0, 521.0, 368.0, 14.0, 616.0, 239.0, 195.0, 46.0, 213.0, 215.0, 417.0, 407.0, 509.0, 229.0, 225.0, 198.0, 280.0, 483.0, 261.0, 109.0, 466.0, 597.0, 404.0, 163.0, 342.0, 249.0, 429.0, 188.0, 520.0, 345.0, 280.0, 274.0, 179.0, 402.0, 171.0, 576.0, 161.0, 230.0, 208.0, 472.0, 109.0, 211.0, 467.0, 549.0, 376.0, 375.0, 351.0, 487.0, 241.0, 164.0, 363.0, 154.0, 371.0, 328.0, 106.0, 316.0, 308.0, 462.0, 258.0, 286.0, 194.0, 106.0, 286.0, 184.0, 124.0, 320.0, 183.0, 579.0, 577.0, 197.0, 158.0, 317.0, 443.0, 328.0, 36.0, 331.0, 219.0, 486.0, 195.0, 442.0, 109.0, 269.0, 465.0, 417.0, 153.0], \"yaxis\": \"y\"}],\n                        {\"legend\": {\"tracegroupgap\": 0}, \"margin\": {\"t\": 60}, \"template\": {\"data\": {\"bar\": [{\"error_x\": {\"color\": \"#2a3f5f\"}, \"error_y\": {\"color\": \"#2a3f5f\"}, \"marker\": {\"line\": {\"color\": \"#E5ECF6\", \"width\": 0.5}}, \"type\": \"bar\"}], \"barpolar\": [{\"marker\": {\"line\": {\"color\": \"#E5ECF6\", \"width\": 0.5}}, \"type\": \"barpolar\"}], \"carpet\": [{\"aaxis\": {\"endlinecolor\": \"#2a3f5f\", \"gridcolor\": \"white\", \"linecolor\": \"white\", \"minorgridcolor\": \"white\", \"startlinecolor\": \"#2a3f5f\"}, \"baxis\": {\"endlinecolor\": \"#2a3f5f\", \"gridcolor\": \"white\", \"linecolor\": \"white\", \"minorgridcolor\": \"white\", \"startlinecolor\": \"#2a3f5f\"}, \"type\": \"carpet\"}], \"choropleth\": [{\"colorbar\": {\"outlinewidth\": 0, \"ticks\": \"\"}, \"type\": \"choropleth\"}], \"contour\": [{\"colorbar\": {\"outlinewidth\": 0, \"ticks\": \"\"}, \"colorscale\": [[0.0, \"#0d0887\"], [0.1111111111111111, \"#46039f\"], [0.2222222222222222, \"#7201a8\"], [0.3333333333333333, \"#9c179e\"], [0.4444444444444444, \"#bd3786\"], [0.5555555555555556, \"#d8576b\"], [0.6666666666666666, \"#ed7953\"], [0.7777777777777778, \"#fb9f3a\"], [0.8888888888888888, \"#fdca26\"], [1.0, \"#f0f921\"]], \"type\": \"contour\"}], \"contourcarpet\": [{\"colorbar\": {\"outlinewidth\": 0, \"ticks\": \"\"}, \"type\": \"contourcarpet\"}], \"heatmap\": [{\"colorbar\": {\"outlinewidth\": 0, \"ticks\": \"\"}, \"colorscale\": [[0.0, \"#0d0887\"], [0.1111111111111111, \"#46039f\"], [0.2222222222222222, \"#7201a8\"], [0.3333333333333333, \"#9c179e\"], [0.4444444444444444, \"#bd3786\"], [0.5555555555555556, \"#d8576b\"], [0.6666666666666666, \"#ed7953\"], [0.7777777777777778, \"#fb9f3a\"], [0.8888888888888888, \"#fdca26\"], [1.0, \"#f0f921\"]], \"type\": \"heatmap\"}], \"heatmapgl\": [{\"colorbar\": {\"outlinewidth\": 0, \"ticks\": \"\"}, \"colorscale\": [[0.0, \"#0d0887\"], [0.1111111111111111, \"#46039f\"], [0.2222222222222222, \"#7201a8\"], [0.3333333333333333, \"#9c179e\"], [0.4444444444444444, \"#bd3786\"], [0.5555555555555556, \"#d8576b\"], [0.6666666666666666, \"#ed7953\"], [0.7777777777777778, \"#fb9f3a\"], [0.8888888888888888, \"#fdca26\"], [1.0, \"#f0f921\"]], \"type\": \"heatmapgl\"}], \"histogram\": [{\"marker\": {\"colorbar\": {\"outlinewidth\": 0, \"ticks\": \"\"}}, \"type\": \"histogram\"}], \"histogram2d\": [{\"colorbar\": {\"outlinewidth\": 0, \"ticks\": \"\"}, \"colorscale\": [[0.0, \"#0d0887\"], [0.1111111111111111, \"#46039f\"], [0.2222222222222222, \"#7201a8\"], [0.3333333333333333, \"#9c179e\"], [0.4444444444444444, \"#bd3786\"], [0.5555555555555556, \"#d8576b\"], [0.6666666666666666, \"#ed7953\"], [0.7777777777777778, \"#fb9f3a\"], [0.8888888888888888, \"#fdca26\"], [1.0, \"#f0f921\"]], \"type\": \"histogram2d\"}], \"histogram2dcontour\": [{\"colorbar\": {\"outlinewidth\": 0, \"ticks\": \"\"}, \"colorscale\": [[0.0, \"#0d0887\"], [0.1111111111111111, \"#46039f\"], [0.2222222222222222, \"#7201a8\"], [0.3333333333333333, \"#9c179e\"], [0.4444444444444444, \"#bd3786\"], [0.5555555555555556, \"#d8576b\"], [0.6666666666666666, \"#ed7953\"], [0.7777777777777778, \"#fb9f3a\"], [0.8888888888888888, \"#fdca26\"], [1.0, \"#f0f921\"]], \"type\": \"histogram2dcontour\"}], \"mesh3d\": [{\"colorbar\": {\"outlinewidth\": 0, \"ticks\": \"\"}, \"type\": \"mesh3d\"}], \"parcoords\": [{\"line\": {\"colorbar\": {\"outlinewidth\": 0, \"ticks\": \"\"}}, \"type\": \"parcoords\"}], \"pie\": [{\"automargin\": true, \"type\": \"pie\"}], \"scatter\": [{\"marker\": {\"colorbar\": {\"outlinewidth\": 0, \"ticks\": \"\"}}, \"type\": \"scatter\"}], \"scatter3d\": [{\"line\": {\"colorbar\": {\"outlinewidth\": 0, \"ticks\": \"\"}}, \"marker\": {\"colorbar\": {\"outlinewidth\": 0, \"ticks\": \"\"}}, \"type\": \"scatter3d\"}], \"scattercarpet\": [{\"marker\": {\"colorbar\": {\"outlinewidth\": 0, \"ticks\": \"\"}}, \"type\": \"scattercarpet\"}], \"scattergeo\": [{\"marker\": {\"colorbar\": {\"outlinewidth\": 0, \"ticks\": \"\"}}, \"type\": \"scattergeo\"}], \"scattergl\": [{\"marker\": {\"colorbar\": {\"outlinewidth\": 0, \"ticks\": \"\"}}, \"type\": \"scattergl\"}], \"scattermapbox\": [{\"marker\": {\"colorbar\": {\"outlinewidth\": 0, \"ticks\": \"\"}}, \"type\": \"scattermapbox\"}], \"scatterpolar\": [{\"marker\": {\"colorbar\": {\"outlinewidth\": 0, \"ticks\": \"\"}}, \"type\": \"scatterpolar\"}], \"scatterpolargl\": [{\"marker\": {\"colorbar\": {\"outlinewidth\": 0, \"ticks\": \"\"}}, \"type\": \"scatterpolargl\"}], \"scatterternary\": [{\"marker\": {\"colorbar\": {\"outlinewidth\": 0, \"ticks\": \"\"}}, \"type\": \"scatterternary\"}], \"surface\": [{\"colorbar\": {\"outlinewidth\": 0, \"ticks\": \"\"}, \"colorscale\": [[0.0, \"#0d0887\"], [0.1111111111111111, \"#46039f\"], [0.2222222222222222, \"#7201a8\"], [0.3333333333333333, \"#9c179e\"], [0.4444444444444444, \"#bd3786\"], [0.5555555555555556, \"#d8576b\"], [0.6666666666666666, \"#ed7953\"], [0.7777777777777778, \"#fb9f3a\"], [0.8888888888888888, \"#fdca26\"], [1.0, \"#f0f921\"]], \"type\": \"surface\"}], \"table\": [{\"cells\": {\"fill\": {\"color\": \"#EBF0F8\"}, \"line\": {\"color\": \"white\"}}, \"header\": {\"fill\": {\"color\": \"#C8D4E3\"}, \"line\": {\"color\": \"white\"}}, \"type\": \"table\"}]}, \"layout\": {\"annotationdefaults\": {\"arrowcolor\": \"#2a3f5f\", \"arrowhead\": 0, \"arrowwidth\": 1}, \"coloraxis\": {\"colorbar\": {\"outlinewidth\": 0, \"ticks\": \"\"}}, \"colorscale\": {\"diverging\": [[0, \"#8e0152\"], [0.1, \"#c51b7d\"], [0.2, \"#de77ae\"], [0.3, \"#f1b6da\"], [0.4, \"#fde0ef\"], [0.5, \"#f7f7f7\"], [0.6, \"#e6f5d0\"], [0.7, \"#b8e186\"], [0.8, \"#7fbc41\"], [0.9, \"#4d9221\"], [1, \"#276419\"]], \"sequential\": [[0.0, \"#0d0887\"], [0.1111111111111111, \"#46039f\"], [0.2222222222222222, \"#7201a8\"], [0.3333333333333333, \"#9c179e\"], [0.4444444444444444, \"#bd3786\"], [0.5555555555555556, \"#d8576b\"], [0.6666666666666666, \"#ed7953\"], [0.7777777777777778, \"#fb9f3a\"], [0.8888888888888888, \"#fdca26\"], [1.0, \"#f0f921\"]], \"sequentialminus\": [[0.0, \"#0d0887\"], [0.1111111111111111, \"#46039f\"], [0.2222222222222222, \"#7201a8\"], [0.3333333333333333, \"#9c179e\"], [0.4444444444444444, \"#bd3786\"], [0.5555555555555556, \"#d8576b\"], [0.6666666666666666, \"#ed7953\"], [0.7777777777777778, \"#fb9f3a\"], [0.8888888888888888, \"#fdca26\"], [1.0, \"#f0f921\"]]}, \"colorway\": [\"#636efa\", \"#EF553B\", \"#00cc96\", \"#ab63fa\", \"#FFA15A\", \"#19d3f3\", \"#FF6692\", \"#B6E880\", \"#FF97FF\", \"#FECB52\"], \"font\": {\"color\": \"#2a3f5f\"}, \"geo\": {\"bgcolor\": \"white\", \"lakecolor\": \"white\", \"landcolor\": \"#E5ECF6\", \"showlakes\": true, \"showland\": true, \"subunitcolor\": \"white\"}, \"hoverlabel\": {\"align\": \"left\"}, \"hovermode\": \"closest\", \"mapbox\": {\"style\": \"light\"}, \"paper_bgcolor\": \"white\", \"plot_bgcolor\": \"#E5ECF6\", \"polar\": {\"angularaxis\": {\"gridcolor\": \"white\", \"linecolor\": \"white\", \"ticks\": \"\"}, \"bgcolor\": \"#E5ECF6\", \"radialaxis\": {\"gridcolor\": \"white\", \"linecolor\": \"white\", \"ticks\": \"\"}}, \"scene\": {\"xaxis\": {\"backgroundcolor\": \"#E5ECF6\", \"gridcolor\": \"white\", \"gridwidth\": 2, \"linecolor\": \"white\", \"showbackground\": true, \"ticks\": \"\", \"zerolinecolor\": \"white\"}, \"yaxis\": {\"backgroundcolor\": \"#E5ECF6\", \"gridcolor\": \"white\", \"gridwidth\": 2, \"linecolor\": \"white\", \"showbackground\": true, \"ticks\": \"\", \"zerolinecolor\": \"white\"}, \"zaxis\": {\"backgroundcolor\": \"#E5ECF6\", \"gridcolor\": \"white\", \"gridwidth\": 2, \"linecolor\": \"white\", \"showbackground\": true, \"ticks\": \"\", \"zerolinecolor\": \"white\"}}, \"shapedefaults\": {\"line\": {\"color\": \"#2a3f5f\"}}, \"ternary\": {\"aaxis\": {\"gridcolor\": \"white\", \"linecolor\": \"white\", \"ticks\": \"\"}, \"baxis\": {\"gridcolor\": \"white\", \"linecolor\": \"white\", \"ticks\": \"\"}, \"bgcolor\": \"#E5ECF6\", \"caxis\": {\"gridcolor\": \"white\", \"linecolor\": \"white\", \"ticks\": \"\"}}, \"title\": {\"x\": 0.05}, \"xaxis\": {\"automargin\": true, \"gridcolor\": \"white\", \"linecolor\": \"white\", \"ticks\": \"\", \"title\": {\"standoff\": 15}, \"zerolinecolor\": \"white\", \"zerolinewidth\": 2}, \"yaxis\": {\"automargin\": true, \"gridcolor\": \"white\", \"linecolor\": \"white\", \"ticks\": \"\", \"title\": {\"standoff\": 15}, \"zerolinecolor\": \"white\", \"zerolinewidth\": 2}}}, \"xaxis\": {\"anchor\": \"y\", \"domain\": [0.0, 1.0]}, \"yaxis\": {\"anchor\": \"x\", \"domain\": [0.0, 1.0], \"title\": {\"text\": \"0\"}}},\n                        {\"responsive\": true}\n                    ).then(function(){\n                            \nvar gd = document.getElementById('b342cb1a-a763-4bc8-bcaa-b562bcb97cc3');\nvar x = new MutationObserver(function (mutations, observer) {{\n        var display = window.getComputedStyle(gd).display;\n        if (!display || display === 'none') {{\n            console.log([gd, 'removed!']);\n            Plotly.purge(gd);\n            observer.disconnect();\n        }}\n}});\n\n// Listen for the removal of the full notebook cells\nvar notebookContainer = gd.closest('#notebook-container');\nif (notebookContainer) {{\n    x.observe(notebookContainer, {childList: true});\n}}\n\n// Listen for the clearing of the current output cell\nvar outputEl = gd.closest('.output');\nif (outputEl) {{\n    x.observe(outputEl, {childList: true});\n}}\n\n                        })\n                };\n                });\n            </script>\n        </div>"
     },
     "metadata": {}
    },
    {
     "output_type": "display_data",
     "data": {
      "application/vnd.plotly.v1+json": {
       "config": {
        "plotlyServerURL": "https://plot.ly"
       },
       "data": [
        {
         "hovertemplate": "0=%{y}<extra></extra>",
         "legendgroup": "",
         "line": {
          "color": "#636efa",
          "dash": "solid"
         },
         "mode": "lines",
         "name": "",
         "showlegend": false,
         "type": "scatter",
         "xaxis": "x",
         "y": [
          163,
          518,
          519,
          297,
          246,
          309,
          195,
          245,
          249,
          251,
          187,
          332,
          360,
          448,
          497,
          136,
          126,
          269,
          122,
          362,
          176,
          436,
          157,
          473,
          109,
          410,
          134,
          203,
          385,
          352,
          123,
          237,
          293,
          210,
          257,
          403,
          135,
          380,
          202,
          559,
          497,
          189,
          351,
          337,
          218,
          130,
          221,
          293,
          121,
          101,
          181,
          147,
          473,
          83,
          217,
          242,
          432,
          254,
          101,
          245,
          271,
          568,
          216,
          59,
          416,
          195,
          527,
          244,
          434,
          264,
          84,
          159,
          206,
          159,
          496,
          267,
          295,
          151,
          192,
          161,
          446,
          199,
          447,
          589,
          451,
          116,
          556,
          130,
          559,
          245,
          265,
          274,
          276,
          164,
          542,
          249,
          435,
          104,
          327,
          335,
          514,
          298,
          486,
          115,
          128,
          428,
          319,
          153,
          385,
          77,
          375,
          343,
          216,
          281,
          235,
          158,
          553,
          527,
          517,
          187,
          447,
          209,
          315,
          52,
          518,
          188,
          206,
          111,
          372,
          266,
          316,
          227,
          443,
          198,
          530,
          85,
          571,
          276,
          249,
          283,
          279,
          289,
          296,
          209,
          268,
          200,
          116,
          432,
          254,
          213,
          91,
          249,
          363,
          246,
          539,
          258,
          332,
          313,
          575,
          640,
          250,
          285,
          128,
          254,
          312,
          251,
          286,
          212,
          118,
          182,
          377,
          323,
          520,
          30,
          637,
          419,
          202,
          464,
          230,
          114,
          440,
          391,
          112,
          598,
          209,
          306,
          258,
          286,
          108,
          194,
          235,
          380,
          184,
          482,
          285,
          433,
          213,
          124,
          212,
          142,
          159,
          339,
          222,
          302,
          286,
          219,
          174,
          423,
          278,
          526,
          61,
          408,
          318,
          217,
          156,
          315,
          216,
          415,
          454,
          139,
          224,
          118,
          539,
          214,
          425,
          277,
          239,
          598,
          189,
          197,
          366,
          122,
          472,
          284,
          387,
          162,
          370,
          238,
          311,
          180,
          252,
          363,
          343,
          303,
          381,
          199,
          246,
          242,
          370,
          311,
          563,
          132,
          174,
          211,
          403,
          196,
          307,
          228,
          530,
          535,
          166,
          366,
          243,
          327,
          196,
          418,
          234,
          80,
          325,
          427,
          517,
          163,
          169,
          358,
          250,
          154,
          300,
          46,
          438,
          324,
          169,
          487,
          38,
          245,
          103,
          289,
          132,
          717,
          233,
          360,
          360,
          299,
          429,
          134,
          330,
          47,
          211,
          94,
          442,
          121,
          267,
          47,
          153,
          328,
          373,
          43,
          313,
          179,
          447,
          412,
          4,
          499,
          161,
          328,
          264,
          337,
          380,
          182,
          200,
          230,
          184,
          162,
          460,
          96,
          427,
          239,
          445,
          378,
          389,
          265,
          265,
          297,
          264,
          293,
          193,
          80,
          476,
          215,
          278,
          289,
          6,
          104,
          166,
          594,
          6,
          392,
          133,
          458,
          218,
          229,
          312,
          640,
          543,
          190,
          269,
          303,
          166,
          219,
          236,
          331,
          436,
          329,
          332,
          404,
          89,
          391,
          377,
          186,
          200,
          405,
          380,
          308,
          266,
          404,
          357,
          183,
          534,
          72,
          507,
          13,
          248,
          232,
          533,
          309,
          227,
          326,
          357,
          415,
          170,
          372,
          224,
          550,
          300,
          90,
          532,
          51,
          445,
          221,
          277,
          291,
          468,
          171,
          543,
          313,
          237,
          355,
          303,
          224,
          413,
          229,
          392,
          438,
          364,
          369,
          123,
          280,
          97,
          260,
          219,
          504,
          220,
          375,
          540,
          201,
          316,
          460,
          10,
          519,
          86,
          567,
          353,
          284,
          248,
          360,
          384,
          372,
          259,
          199,
          368,
          485,
          210,
          296,
          271,
          274,
          293,
          239,
          509,
          344,
          503,
          211,
          323,
          412,
          19,
          244,
          501,
          344,
          206,
          100,
          176,
          318,
          157,
          145,
          251,
          435,
          156,
          385,
          218,
          288,
          234,
          329,
          119,
          375,
          409,
          193,
          319,
          96,
          249,
          341,
          294,
          416,
          136,
          526,
          233,
          640,
          288,
          112,
          202,
          218,
          265,
          261,
          205,
          279,
          366,
          150,
          325,
          259,
          215,
          184,
          130,
          139,
          627,
          543,
          415,
          195,
          365,
          87,
          610,
          282,
          389,
          121,
          225,
          189,
          342,
          402,
          214,
          323,
          403,
          429,
          224,
          414,
          154,
          502,
          269,
          521,
          368,
          14,
          616,
          239,
          195,
          46,
          213,
          215,
          417,
          407,
          509,
          229,
          225,
          198,
          280,
          483,
          261,
          109,
          466,
          597,
          404,
          163,
          342,
          249,
          429,
          188,
          520,
          345,
          280,
          274,
          179,
          402,
          171,
          576,
          161,
          230,
          208,
          472,
          109,
          211,
          467,
          549,
          376,
          375,
          351,
          487,
          241,
          164,
          363,
          154,
          371,
          328,
          106,
          316,
          308,
          462,
          258,
          286,
          194,
          106,
          286,
          184,
          124,
          320,
          183,
          579,
          577,
          197,
          158,
          317,
          443,
          328,
          36,
          331,
          219,
          486,
          195,
          442,
          109,
          269,
          465,
          417,
          153
         ],
         "yaxis": "y"
        }
       ],
       "layout": {
        "legend": {
         "tracegroupgap": 0
        },
        "margin": {
         "t": 60
        },
        "template": {
         "data": {
          "bar": [
           {
            "error_x": {
             "color": "#2a3f5f"
            },
            "error_y": {
             "color": "#2a3f5f"
            },
            "marker": {
             "line": {
              "color": "#E5ECF6",
              "width": 0.5
             }
            },
            "type": "bar"
           }
          ],
          "barpolar": [
           {
            "marker": {
             "line": {
              "color": "#E5ECF6",
              "width": 0.5
             }
            },
            "type": "barpolar"
           }
          ],
          "carpet": [
           {
            "aaxis": {
             "endlinecolor": "#2a3f5f",
             "gridcolor": "white",
             "linecolor": "white",
             "minorgridcolor": "white",
             "startlinecolor": "#2a3f5f"
            },
            "baxis": {
             "endlinecolor": "#2a3f5f",
             "gridcolor": "white",
             "linecolor": "white",
             "minorgridcolor": "white",
             "startlinecolor": "#2a3f5f"
            },
            "type": "carpet"
           }
          ],
          "choropleth": [
           {
            "colorbar": {
             "outlinewidth": 0,
             "ticks": ""
            },
            "type": "choropleth"
           }
          ],
          "contour": [
           {
            "colorbar": {
             "outlinewidth": 0,
             "ticks": ""
            },
            "colorscale": [
             [
              0,
              "#0d0887"
             ],
             [
              0.1111111111111111,
              "#46039f"
             ],
             [
              0.2222222222222222,
              "#7201a8"
             ],
             [
              0.3333333333333333,
              "#9c179e"
             ],
             [
              0.4444444444444444,
              "#bd3786"
             ],
             [
              0.5555555555555556,
              "#d8576b"
             ],
             [
              0.6666666666666666,
              "#ed7953"
             ],
             [
              0.7777777777777778,
              "#fb9f3a"
             ],
             [
              0.8888888888888888,
              "#fdca26"
             ],
             [
              1,
              "#f0f921"
             ]
            ],
            "type": "contour"
           }
          ],
          "contourcarpet": [
           {
            "colorbar": {
             "outlinewidth": 0,
             "ticks": ""
            },
            "type": "contourcarpet"
           }
          ],
          "heatmap": [
           {
            "colorbar": {
             "outlinewidth": 0,
             "ticks": ""
            },
            "colorscale": [
             [
              0,
              "#0d0887"
             ],
             [
              0.1111111111111111,
              "#46039f"
             ],
             [
              0.2222222222222222,
              "#7201a8"
             ],
             [
              0.3333333333333333,
              "#9c179e"
             ],
             [
              0.4444444444444444,
              "#bd3786"
             ],
             [
              0.5555555555555556,
              "#d8576b"
             ],
             [
              0.6666666666666666,
              "#ed7953"
             ],
             [
              0.7777777777777778,
              "#fb9f3a"
             ],
             [
              0.8888888888888888,
              "#fdca26"
             ],
             [
              1,
              "#f0f921"
             ]
            ],
            "type": "heatmap"
           }
          ],
          "heatmapgl": [
           {
            "colorbar": {
             "outlinewidth": 0,
             "ticks": ""
            },
            "colorscale": [
             [
              0,
              "#0d0887"
             ],
             [
              0.1111111111111111,
              "#46039f"
             ],
             [
              0.2222222222222222,
              "#7201a8"
             ],
             [
              0.3333333333333333,
              "#9c179e"
             ],
             [
              0.4444444444444444,
              "#bd3786"
             ],
             [
              0.5555555555555556,
              "#d8576b"
             ],
             [
              0.6666666666666666,
              "#ed7953"
             ],
             [
              0.7777777777777778,
              "#fb9f3a"
             ],
             [
              0.8888888888888888,
              "#fdca26"
             ],
             [
              1,
              "#f0f921"
             ]
            ],
            "type": "heatmapgl"
           }
          ],
          "histogram": [
           {
            "marker": {
             "colorbar": {
              "outlinewidth": 0,
              "ticks": ""
             }
            },
            "type": "histogram"
           }
          ],
          "histogram2d": [
           {
            "colorbar": {
             "outlinewidth": 0,
             "ticks": ""
            },
            "colorscale": [
             [
              0,
              "#0d0887"
             ],
             [
              0.1111111111111111,
              "#46039f"
             ],
             [
              0.2222222222222222,
              "#7201a8"
             ],
             [
              0.3333333333333333,
              "#9c179e"
             ],
             [
              0.4444444444444444,
              "#bd3786"
             ],
             [
              0.5555555555555556,
              "#d8576b"
             ],
             [
              0.6666666666666666,
              "#ed7953"
             ],
             [
              0.7777777777777778,
              "#fb9f3a"
             ],
             [
              0.8888888888888888,
              "#fdca26"
             ],
             [
              1,
              "#f0f921"
             ]
            ],
            "type": "histogram2d"
           }
          ],
          "histogram2dcontour": [
           {
            "colorbar": {
             "outlinewidth": 0,
             "ticks": ""
            },
            "colorscale": [
             [
              0,
              "#0d0887"
             ],
             [
              0.1111111111111111,
              "#46039f"
             ],
             [
              0.2222222222222222,
              "#7201a8"
             ],
             [
              0.3333333333333333,
              "#9c179e"
             ],
             [
              0.4444444444444444,
              "#bd3786"
             ],
             [
              0.5555555555555556,
              "#d8576b"
             ],
             [
              0.6666666666666666,
              "#ed7953"
             ],
             [
              0.7777777777777778,
              "#fb9f3a"
             ],
             [
              0.8888888888888888,
              "#fdca26"
             ],
             [
              1,
              "#f0f921"
             ]
            ],
            "type": "histogram2dcontour"
           }
          ],
          "mesh3d": [
           {
            "colorbar": {
             "outlinewidth": 0,
             "ticks": ""
            },
            "type": "mesh3d"
           }
          ],
          "parcoords": [
           {
            "line": {
             "colorbar": {
              "outlinewidth": 0,
              "ticks": ""
             }
            },
            "type": "parcoords"
           }
          ],
          "pie": [
           {
            "automargin": true,
            "type": "pie"
           }
          ],
          "scatter": [
           {
            "marker": {
             "colorbar": {
              "outlinewidth": 0,
              "ticks": ""
             }
            },
            "type": "scatter"
           }
          ],
          "scatter3d": [
           {
            "line": {
             "colorbar": {
              "outlinewidth": 0,
              "ticks": ""
             }
            },
            "marker": {
             "colorbar": {
              "outlinewidth": 0,
              "ticks": ""
             }
            },
            "type": "scatter3d"
           }
          ],
          "scattercarpet": [
           {
            "marker": {
             "colorbar": {
              "outlinewidth": 0,
              "ticks": ""
             }
            },
            "type": "scattercarpet"
           }
          ],
          "scattergeo": [
           {
            "marker": {
             "colorbar": {
              "outlinewidth": 0,
              "ticks": ""
             }
            },
            "type": "scattergeo"
           }
          ],
          "scattergl": [
           {
            "marker": {
             "colorbar": {
              "outlinewidth": 0,
              "ticks": ""
             }
            },
            "type": "scattergl"
           }
          ],
          "scattermapbox": [
           {
            "marker": {
             "colorbar": {
              "outlinewidth": 0,
              "ticks": ""
             }
            },
            "type": "scattermapbox"
           }
          ],
          "scatterpolar": [
           {
            "marker": {
             "colorbar": {
              "outlinewidth": 0,
              "ticks": ""
             }
            },
            "type": "scatterpolar"
           }
          ],
          "scatterpolargl": [
           {
            "marker": {
             "colorbar": {
              "outlinewidth": 0,
              "ticks": ""
             }
            },
            "type": "scatterpolargl"
           }
          ],
          "scatterternary": [
           {
            "marker": {
             "colorbar": {
              "outlinewidth": 0,
              "ticks": ""
             }
            },
            "type": "scatterternary"
           }
          ],
          "surface": [
           {
            "colorbar": {
             "outlinewidth": 0,
             "ticks": ""
            },
            "colorscale": [
             [
              0,
              "#0d0887"
             ],
             [
              0.1111111111111111,
              "#46039f"
             ],
             [
              0.2222222222222222,
              "#7201a8"
             ],
             [
              0.3333333333333333,
              "#9c179e"
             ],
             [
              0.4444444444444444,
              "#bd3786"
             ],
             [
              0.5555555555555556,
              "#d8576b"
             ],
             [
              0.6666666666666666,
              "#ed7953"
             ],
             [
              0.7777777777777778,
              "#fb9f3a"
             ],
             [
              0.8888888888888888,
              "#fdca26"
             ],
             [
              1,
              "#f0f921"
             ]
            ],
            "type": "surface"
           }
          ],
          "table": [
           {
            "cells": {
             "fill": {
              "color": "#EBF0F8"
             },
             "line": {
              "color": "white"
             }
            },
            "header": {
             "fill": {
              "color": "#C8D4E3"
             },
             "line": {
              "color": "white"
             }
            },
            "type": "table"
           }
          ]
         },
         "layout": {
          "annotationdefaults": {
           "arrowcolor": "#2a3f5f",
           "arrowhead": 0,
           "arrowwidth": 1
          },
          "coloraxis": {
           "colorbar": {
            "outlinewidth": 0,
            "ticks": ""
           }
          },
          "colorscale": {
           "diverging": [
            [
             0,
             "#8e0152"
            ],
            [
             0.1,
             "#c51b7d"
            ],
            [
             0.2,
             "#de77ae"
            ],
            [
             0.3,
             "#f1b6da"
            ],
            [
             0.4,
             "#fde0ef"
            ],
            [
             0.5,
             "#f7f7f7"
            ],
            [
             0.6,
             "#e6f5d0"
            ],
            [
             0.7,
             "#b8e186"
            ],
            [
             0.8,
             "#7fbc41"
            ],
            [
             0.9,
             "#4d9221"
            ],
            [
             1,
             "#276419"
            ]
           ],
           "sequential": [
            [
             0,
             "#0d0887"
            ],
            [
             0.1111111111111111,
             "#46039f"
            ],
            [
             0.2222222222222222,
             "#7201a8"
            ],
            [
             0.3333333333333333,
             "#9c179e"
            ],
            [
             0.4444444444444444,
             "#bd3786"
            ],
            [
             0.5555555555555556,
             "#d8576b"
            ],
            [
             0.6666666666666666,
             "#ed7953"
            ],
            [
             0.7777777777777778,
             "#fb9f3a"
            ],
            [
             0.8888888888888888,
             "#fdca26"
            ],
            [
             1,
             "#f0f921"
            ]
           ],
           "sequentialminus": [
            [
             0,
             "#0d0887"
            ],
            [
             0.1111111111111111,
             "#46039f"
            ],
            [
             0.2222222222222222,
             "#7201a8"
            ],
            [
             0.3333333333333333,
             "#9c179e"
            ],
            [
             0.4444444444444444,
             "#bd3786"
            ],
            [
             0.5555555555555556,
             "#d8576b"
            ],
            [
             0.6666666666666666,
             "#ed7953"
            ],
            [
             0.7777777777777778,
             "#fb9f3a"
            ],
            [
             0.8888888888888888,
             "#fdca26"
            ],
            [
             1,
             "#f0f921"
            ]
           ]
          },
          "colorway": [
           "#636efa",
           "#EF553B",
           "#00cc96",
           "#ab63fa",
           "#FFA15A",
           "#19d3f3",
           "#FF6692",
           "#B6E880",
           "#FF97FF",
           "#FECB52"
          ],
          "font": {
           "color": "#2a3f5f"
          },
          "geo": {
           "bgcolor": "white",
           "lakecolor": "white",
           "landcolor": "#E5ECF6",
           "showlakes": true,
           "showland": true,
           "subunitcolor": "white"
          },
          "hoverlabel": {
           "align": "left"
          },
          "hovermode": "closest",
          "mapbox": {
           "style": "light"
          },
          "paper_bgcolor": "white",
          "plot_bgcolor": "#E5ECF6",
          "polar": {
           "angularaxis": {
            "gridcolor": "white",
            "linecolor": "white",
            "ticks": ""
           },
           "bgcolor": "#E5ECF6",
           "radialaxis": {
            "gridcolor": "white",
            "linecolor": "white",
            "ticks": ""
           }
          },
          "scene": {
           "xaxis": {
            "backgroundcolor": "#E5ECF6",
            "gridcolor": "white",
            "gridwidth": 2,
            "linecolor": "white",
            "showbackground": true,
            "ticks": "",
            "zerolinecolor": "white"
           },
           "yaxis": {
            "backgroundcolor": "#E5ECF6",
            "gridcolor": "white",
            "gridwidth": 2,
            "linecolor": "white",
            "showbackground": true,
            "ticks": "",
            "zerolinecolor": "white"
           },
           "zaxis": {
            "backgroundcolor": "#E5ECF6",
            "gridcolor": "white",
            "gridwidth": 2,
            "linecolor": "white",
            "showbackground": true,
            "ticks": "",
            "zerolinecolor": "white"
           }
          },
          "shapedefaults": {
           "line": {
            "color": "#2a3f5f"
           }
          },
          "ternary": {
           "aaxis": {
            "gridcolor": "white",
            "linecolor": "white",
            "ticks": ""
           },
           "baxis": {
            "gridcolor": "white",
            "linecolor": "white",
            "ticks": ""
           },
           "bgcolor": "#E5ECF6",
           "caxis": {
            "gridcolor": "white",
            "linecolor": "white",
            "ticks": ""
           }
          },
          "title": {
           "x": 0.05
          },
          "xaxis": {
           "automargin": true,
           "gridcolor": "white",
           "linecolor": "white",
           "ticks": "",
           "title": {
            "standoff": 15
           },
           "zerolinecolor": "white",
           "zerolinewidth": 2
          },
          "yaxis": {
           "automargin": true,
           "gridcolor": "white",
           "linecolor": "white",
           "ticks": "",
           "title": {
            "standoff": 15
           },
           "zerolinecolor": "white",
           "zerolinewidth": 2
          }
         }
        },
        "xaxis": {
         "anchor": "y",
         "domain": [
          0,
          1
         ]
        },
        "yaxis": {
         "anchor": "x",
         "domain": [
          0,
          1
         ],
         "title": {
          "text": "0"
         }
        }
       }
      },
      "text/html": "<div>\n        \n        \n            <div id=\"d79535d1-25cc-4957-85c1-fce299a85c9c\" class=\"plotly-graph-div\" style=\"height:525px; width:100%;\"></div>\n            <script type=\"text/javascript\">\n                require([\"plotly\"], function(Plotly) {\n                    window.PLOTLYENV=window.PLOTLYENV || {};\n                    \n                if (document.getElementById(\"d79535d1-25cc-4957-85c1-fce299a85c9c\")) {\n                    Plotly.newPlot(\n                        'd79535d1-25cc-4957-85c1-fce299a85c9c',\n                        [{\"hovertemplate\": \"0=%{y}<extra></extra>\", \"legendgroup\": \"\", \"line\": {\"color\": \"#636efa\", \"dash\": \"solid\"}, \"mode\": \"lines\", \"name\": \"\", \"showlegend\": false, \"type\": \"scatter\", \"xaxis\": \"x\", \"y\": [163.0, 518.0, 519.0, 297.0, 246.0, 309.0, 195.0, 245.0, 249.0, 251.0, 187.0, 332.0, 360.0, 448.0, 497.0, 136.0, 126.0, 269.0, 122.0, 362.0, 176.0, 436.0, 157.0, 473.0, 109.0, 410.0, 134.0, 203.0, 385.0, 352.0, 123.0, 237.0, 293.0, 210.0, 257.0, 403.0, 135.0, 380.0, 202.0, 559.0, 497.0, 189.0, 351.0, 337.0, 218.0, 130.0, 221.0, 293.0, 121.0, 101.0, 181.0, 147.0, 473.0, 83.0, 217.0, 242.0, 432.0, 254.0, 101.0, 245.0, 271.0, 568.0, 216.0, 59.0, 416.0, 195.0, 527.0, 244.0, 434.0, 264.0, 84.0, 159.0, 206.0, 159.0, 496.0, 267.0, 295.0, 151.0, 192.0, 161.0, 446.0, 199.0, 447.0, 589.0, 451.0, 116.0, 556.0, 130.0, 559.0, 245.0, 265.0, 274.0, 276.0, 164.0, 542.0, 249.0, 435.0, 104.0, 327.0, 335.0, 514.0, 298.0, 486.0, 115.0, 128.0, 428.0, 319.0, 153.0, 385.0, 77.0, 375.0, 343.0, 216.0, 281.0, 235.0, 158.0, 553.0, 527.0, 517.0, 187.0, 447.0, 209.0, 315.0, 52.0, 518.0, 188.0, 206.0, 111.0, 372.0, 266.0, 316.0, 227.0, 443.0, 198.0, 530.0, 85.0, 571.0, 276.0, 249.0, 283.0, 279.0, 289.0, 296.0, 209.0, 268.0, 200.0, 116.0, 432.0, 254.0, 213.0, 91.0, 249.0, 363.0, 246.0, 539.0, 258.0, 332.0, 313.0, 575.0, 640.0, 250.0, 285.0, 128.0, 254.0, 312.0, 251.0, 286.0, 212.0, 118.0, 182.0, 377.0, 323.0, 520.0, 30.0, 637.0, 419.0, 202.0, 464.0, 230.0, 114.0, 440.0, 391.0, 112.0, 598.0, 209.0, 306.0, 258.0, 286.0, 108.0, 194.0, 235.0, 380.0, 184.0, 482.0, 285.0, 433.0, 213.0, 124.0, 212.0, 142.0, 159.0, 339.0, 222.0, 302.0, 286.0, 219.0, 174.0, 423.0, 278.0, 526.0, 61.0, 408.0, 318.0, 217.0, 156.0, 315.0, 216.0, 415.0, 454.0, 139.0, 224.0, 118.0, 539.0, 214.0, 425.0, 277.0, 239.0, 598.0, 189.0, 197.0, 366.0, 122.0, 472.0, 284.0, 387.0, 162.0, 370.0, 238.0, 311.0, 180.0, 252.0, 363.0, 343.0, 303.0, 381.0, 199.0, 246.0, 242.0, 370.0, 311.0, 563.0, 132.0, 174.0, 211.0, 403.0, 196.0, 307.0, 228.0, 530.0, 535.0, 166.0, 366.0, 243.0, 327.0, 196.0, 418.0, 234.0, 80.0, 325.0, 427.0, 517.0, 163.0, 169.0, 358.0, 250.0, 154.0, 300.0, 46.0, 438.0, 324.0, 169.0, 487.0, 38.0, 245.0, 103.0, 289.0, 132.0, 717.0, 233.0, 360.0, 360.0, 299.0, 429.0, 134.0, 330.0, 47.0, 211.0, 94.0, 442.0, 121.0, 267.0, 47.0, 153.0, 328.0, 373.0, 43.0, 313.0, 179.0, 447.0, 412.0, 4.0, 499.0, 161.0, 328.0, 264.0, 337.0, 380.0, 182.0, 200.0, 230.0, 184.0, 162.0, 460.0, 96.0, 427.0, 239.0, 445.0, 378.0, 389.0, 265.0, 265.0, 297.0, 264.0, 293.0, 193.0, 80.0, 476.0, 215.0, 278.0, 289.0, 6.0, 104.0, 166.0, 594.0, 6.0, 392.0, 133.0, 458.0, 218.0, 229.0, 312.0, 640.0, 543.0, 190.0, 269.0, 303.0, 166.0, 219.0, 236.0, 331.0, 436.0, 329.0, 332.0, 404.0, 89.0, 391.0, 377.0, 186.0, 200.0, 405.0, 380.0, 308.0, 266.0, 404.0, 357.0, 183.0, 534.0, 72.0, 507.0, 13.0, 248.0, 232.0, 533.0, 309.0, 227.0, 326.0, 357.0, 415.0, 170.0, 372.0, 224.0, 550.0, 300.0, 90.0, 532.0, 51.0, 445.0, 221.0, 277.0, 291.0, 468.0, 171.0, 543.0, 313.0, 237.0, 355.0, 303.0, 224.0, 413.0, 229.0, 392.0, 438.0, 364.0, 369.0, 123.0, 280.0, 97.0, 260.0, 219.0, 504.0, 220.0, 375.0, 540.0, 201.0, 316.0, 460.0, 10.0, 519.0, 86.0, 567.0, 353.0, 284.0, 248.0, 360.0, 384.0, 372.0, 259.0, 199.0, 368.0, 485.0, 210.0, 296.0, 271.0, 274.0, 293.0, 239.0, 509.0, 344.0, 503.0, 211.0, 323.0, 412.0, 19.0, 244.0, 501.0, 344.0, 206.0, 100.0, 176.0, 318.0, 157.0, 145.0, 251.0, 435.0, 156.0, 385.0, 218.0, 288.0, 234.0, 329.0, 119.0, 375.0, 409.0, 193.0, 319.0, 96.0, 249.0, 341.0, 294.0, 416.0, 136.0, 526.0, 233.0, 640.0, 288.0, 112.0, 202.0, 218.0, 265.0, 261.0, 205.0, 279.0, 366.0, 150.0, 325.0, 259.0, 215.0, 184.0, 130.0, 139.0, 627.0, 543.0, 415.0, 195.0, 365.0, 87.0, 610.0, 282.0, 389.0, 121.0, 225.0, 189.0, 342.0, 402.0, 214.0, 323.0, 403.0, 429.0, 224.0, 414.0, 154.0, 502.0, 269.0, 521.0, 368.0, 14.0, 616.0, 239.0, 195.0, 46.0, 213.0, 215.0, 417.0, 407.0, 509.0, 229.0, 225.0, 198.0, 280.0, 483.0, 261.0, 109.0, 466.0, 597.0, 404.0, 163.0, 342.0, 249.0, 429.0, 188.0, 520.0, 345.0, 280.0, 274.0, 179.0, 402.0, 171.0, 576.0, 161.0, 230.0, 208.0, 472.0, 109.0, 211.0, 467.0, 549.0, 376.0, 375.0, 351.0, 487.0, 241.0, 164.0, 363.0, 154.0, 371.0, 328.0, 106.0, 316.0, 308.0, 462.0, 258.0, 286.0, 194.0, 106.0, 286.0, 184.0, 124.0, 320.0, 183.0, 579.0, 577.0, 197.0, 158.0, 317.0, 443.0, 328.0, 36.0, 331.0, 219.0, 486.0, 195.0, 442.0, 109.0, 269.0, 465.0, 417.0, 153.0], \"yaxis\": \"y\"}],\n                        {\"legend\": {\"tracegroupgap\": 0}, \"margin\": {\"t\": 60}, \"template\": {\"data\": {\"bar\": [{\"error_x\": {\"color\": \"#2a3f5f\"}, \"error_y\": {\"color\": \"#2a3f5f\"}, \"marker\": {\"line\": {\"color\": \"#E5ECF6\", \"width\": 0.5}}, \"type\": \"bar\"}], \"barpolar\": [{\"marker\": {\"line\": {\"color\": \"#E5ECF6\", \"width\": 0.5}}, \"type\": \"barpolar\"}], \"carpet\": [{\"aaxis\": {\"endlinecolor\": \"#2a3f5f\", \"gridcolor\": \"white\", \"linecolor\": \"white\", \"minorgridcolor\": \"white\", \"startlinecolor\": \"#2a3f5f\"}, \"baxis\": {\"endlinecolor\": \"#2a3f5f\", \"gridcolor\": \"white\", \"linecolor\": \"white\", \"minorgridcolor\": \"white\", \"startlinecolor\": \"#2a3f5f\"}, \"type\": \"carpet\"}], \"choropleth\": [{\"colorbar\": {\"outlinewidth\": 0, \"ticks\": \"\"}, \"type\": \"choropleth\"}], \"contour\": [{\"colorbar\": {\"outlinewidth\": 0, \"ticks\": \"\"}, \"colorscale\": [[0.0, \"#0d0887\"], [0.1111111111111111, \"#46039f\"], [0.2222222222222222, \"#7201a8\"], [0.3333333333333333, \"#9c179e\"], [0.4444444444444444, \"#bd3786\"], [0.5555555555555556, \"#d8576b\"], [0.6666666666666666, \"#ed7953\"], [0.7777777777777778, \"#fb9f3a\"], [0.8888888888888888, \"#fdca26\"], [1.0, \"#f0f921\"]], \"type\": \"contour\"}], \"contourcarpet\": [{\"colorbar\": {\"outlinewidth\": 0, \"ticks\": \"\"}, \"type\": \"contourcarpet\"}], \"heatmap\": [{\"colorbar\": {\"outlinewidth\": 0, \"ticks\": \"\"}, \"colorscale\": [[0.0, \"#0d0887\"], [0.1111111111111111, \"#46039f\"], [0.2222222222222222, \"#7201a8\"], [0.3333333333333333, \"#9c179e\"], [0.4444444444444444, \"#bd3786\"], [0.5555555555555556, \"#d8576b\"], [0.6666666666666666, \"#ed7953\"], [0.7777777777777778, \"#fb9f3a\"], [0.8888888888888888, \"#fdca26\"], [1.0, \"#f0f921\"]], \"type\": \"heatmap\"}], \"heatmapgl\": [{\"colorbar\": {\"outlinewidth\": 0, \"ticks\": \"\"}, \"colorscale\": [[0.0, \"#0d0887\"], [0.1111111111111111, \"#46039f\"], [0.2222222222222222, \"#7201a8\"], [0.3333333333333333, \"#9c179e\"], [0.4444444444444444, \"#bd3786\"], [0.5555555555555556, \"#d8576b\"], [0.6666666666666666, \"#ed7953\"], [0.7777777777777778, \"#fb9f3a\"], [0.8888888888888888, \"#fdca26\"], [1.0, \"#f0f921\"]], \"type\": \"heatmapgl\"}], \"histogram\": [{\"marker\": {\"colorbar\": {\"outlinewidth\": 0, \"ticks\": \"\"}}, \"type\": \"histogram\"}], \"histogram2d\": [{\"colorbar\": {\"outlinewidth\": 0, \"ticks\": \"\"}, \"colorscale\": [[0.0, \"#0d0887\"], [0.1111111111111111, \"#46039f\"], [0.2222222222222222, \"#7201a8\"], [0.3333333333333333, \"#9c179e\"], [0.4444444444444444, \"#bd3786\"], [0.5555555555555556, \"#d8576b\"], [0.6666666666666666, \"#ed7953\"], [0.7777777777777778, \"#fb9f3a\"], [0.8888888888888888, \"#fdca26\"], [1.0, \"#f0f921\"]], \"type\": \"histogram2d\"}], \"histogram2dcontour\": [{\"colorbar\": {\"outlinewidth\": 0, \"ticks\": \"\"}, \"colorscale\": [[0.0, \"#0d0887\"], [0.1111111111111111, \"#46039f\"], [0.2222222222222222, \"#7201a8\"], [0.3333333333333333, \"#9c179e\"], [0.4444444444444444, \"#bd3786\"], [0.5555555555555556, \"#d8576b\"], [0.6666666666666666, \"#ed7953\"], [0.7777777777777778, \"#fb9f3a\"], [0.8888888888888888, \"#fdca26\"], [1.0, \"#f0f921\"]], \"type\": \"histogram2dcontour\"}], \"mesh3d\": [{\"colorbar\": {\"outlinewidth\": 0, \"ticks\": \"\"}, \"type\": \"mesh3d\"}], \"parcoords\": [{\"line\": {\"colorbar\": {\"outlinewidth\": 0, \"ticks\": \"\"}}, \"type\": \"parcoords\"}], \"pie\": [{\"automargin\": true, \"type\": \"pie\"}], \"scatter\": [{\"marker\": {\"colorbar\": {\"outlinewidth\": 0, \"ticks\": \"\"}}, \"type\": \"scatter\"}], \"scatter3d\": [{\"line\": {\"colorbar\": {\"outlinewidth\": 0, \"ticks\": \"\"}}, \"marker\": {\"colorbar\": {\"outlinewidth\": 0, \"ticks\": \"\"}}, \"type\": \"scatter3d\"}], \"scattercarpet\": [{\"marker\": {\"colorbar\": {\"outlinewidth\": 0, \"ticks\": \"\"}}, \"type\": \"scattercarpet\"}], \"scattergeo\": [{\"marker\": {\"colorbar\": {\"outlinewidth\": 0, \"ticks\": \"\"}}, \"type\": \"scattergeo\"}], \"scattergl\": [{\"marker\": {\"colorbar\": {\"outlinewidth\": 0, \"ticks\": \"\"}}, \"type\": \"scattergl\"}], \"scattermapbox\": [{\"marker\": {\"colorbar\": {\"outlinewidth\": 0, \"ticks\": \"\"}}, \"type\": \"scattermapbox\"}], \"scatterpolar\": [{\"marker\": {\"colorbar\": {\"outlinewidth\": 0, \"ticks\": \"\"}}, \"type\": \"scatterpolar\"}], \"scatterpolargl\": [{\"marker\": {\"colorbar\": {\"outlinewidth\": 0, \"ticks\": \"\"}}, \"type\": \"scatterpolargl\"}], \"scatterternary\": [{\"marker\": {\"colorbar\": {\"outlinewidth\": 0, \"ticks\": \"\"}}, \"type\": \"scatterternary\"}], \"surface\": [{\"colorbar\": {\"outlinewidth\": 0, \"ticks\": \"\"}, \"colorscale\": [[0.0, \"#0d0887\"], [0.1111111111111111, \"#46039f\"], [0.2222222222222222, \"#7201a8\"], [0.3333333333333333, \"#9c179e\"], [0.4444444444444444, \"#bd3786\"], [0.5555555555555556, \"#d8576b\"], [0.6666666666666666, \"#ed7953\"], [0.7777777777777778, \"#fb9f3a\"], [0.8888888888888888, \"#fdca26\"], [1.0, \"#f0f921\"]], \"type\": \"surface\"}], \"table\": [{\"cells\": {\"fill\": {\"color\": \"#EBF0F8\"}, \"line\": {\"color\": \"white\"}}, \"header\": {\"fill\": {\"color\": \"#C8D4E3\"}, \"line\": {\"color\": \"white\"}}, \"type\": \"table\"}]}, \"layout\": {\"annotationdefaults\": {\"arrowcolor\": \"#2a3f5f\", \"arrowhead\": 0, \"arrowwidth\": 1}, \"coloraxis\": {\"colorbar\": {\"outlinewidth\": 0, \"ticks\": \"\"}}, \"colorscale\": {\"diverging\": [[0, \"#8e0152\"], [0.1, \"#c51b7d\"], [0.2, \"#de77ae\"], [0.3, \"#f1b6da\"], [0.4, \"#fde0ef\"], [0.5, \"#f7f7f7\"], [0.6, \"#e6f5d0\"], [0.7, \"#b8e186\"], [0.8, \"#7fbc41\"], [0.9, \"#4d9221\"], [1, \"#276419\"]], \"sequential\": [[0.0, \"#0d0887\"], [0.1111111111111111, \"#46039f\"], [0.2222222222222222, \"#7201a8\"], [0.3333333333333333, \"#9c179e\"], [0.4444444444444444, \"#bd3786\"], [0.5555555555555556, \"#d8576b\"], [0.6666666666666666, \"#ed7953\"], [0.7777777777777778, \"#fb9f3a\"], [0.8888888888888888, \"#fdca26\"], [1.0, \"#f0f921\"]], \"sequentialminus\": [[0.0, \"#0d0887\"], [0.1111111111111111, \"#46039f\"], [0.2222222222222222, \"#7201a8\"], [0.3333333333333333, \"#9c179e\"], [0.4444444444444444, \"#bd3786\"], [0.5555555555555556, \"#d8576b\"], [0.6666666666666666, \"#ed7953\"], [0.7777777777777778, \"#fb9f3a\"], [0.8888888888888888, \"#fdca26\"], [1.0, \"#f0f921\"]]}, \"colorway\": [\"#636efa\", \"#EF553B\", \"#00cc96\", \"#ab63fa\", \"#FFA15A\", \"#19d3f3\", \"#FF6692\", \"#B6E880\", \"#FF97FF\", \"#FECB52\"], \"font\": {\"color\": \"#2a3f5f\"}, \"geo\": {\"bgcolor\": \"white\", \"lakecolor\": \"white\", \"landcolor\": \"#E5ECF6\", \"showlakes\": true, \"showland\": true, \"subunitcolor\": \"white\"}, \"hoverlabel\": {\"align\": \"left\"}, \"hovermode\": \"closest\", \"mapbox\": {\"style\": \"light\"}, \"paper_bgcolor\": \"white\", \"plot_bgcolor\": \"#E5ECF6\", \"polar\": {\"angularaxis\": {\"gridcolor\": \"white\", \"linecolor\": \"white\", \"ticks\": \"\"}, \"bgcolor\": \"#E5ECF6\", \"radialaxis\": {\"gridcolor\": \"white\", \"linecolor\": \"white\", \"ticks\": \"\"}}, \"scene\": {\"xaxis\": {\"backgroundcolor\": \"#E5ECF6\", \"gridcolor\": \"white\", \"gridwidth\": 2, \"linecolor\": \"white\", \"showbackground\": true, \"ticks\": \"\", \"zerolinecolor\": \"white\"}, \"yaxis\": {\"backgroundcolor\": \"#E5ECF6\", \"gridcolor\": \"white\", \"gridwidth\": 2, \"linecolor\": \"white\", \"showbackground\": true, \"ticks\": \"\", \"zerolinecolor\": \"white\"}, \"zaxis\": {\"backgroundcolor\": \"#E5ECF6\", \"gridcolor\": \"white\", \"gridwidth\": 2, \"linecolor\": \"white\", \"showbackground\": true, \"ticks\": \"\", \"zerolinecolor\": \"white\"}}, \"shapedefaults\": {\"line\": {\"color\": \"#2a3f5f\"}}, \"ternary\": {\"aaxis\": {\"gridcolor\": \"white\", \"linecolor\": \"white\", \"ticks\": \"\"}, \"baxis\": {\"gridcolor\": \"white\", \"linecolor\": \"white\", \"ticks\": \"\"}, \"bgcolor\": \"#E5ECF6\", \"caxis\": {\"gridcolor\": \"white\", \"linecolor\": \"white\", \"ticks\": \"\"}}, \"title\": {\"x\": 0.05}, \"xaxis\": {\"automargin\": true, \"gridcolor\": \"white\", \"linecolor\": \"white\", \"ticks\": \"\", \"title\": {\"standoff\": 15}, \"zerolinecolor\": \"white\", \"zerolinewidth\": 2}, \"yaxis\": {\"automargin\": true, \"gridcolor\": \"white\", \"linecolor\": \"white\", \"ticks\": \"\", \"title\": {\"standoff\": 15}, \"zerolinecolor\": \"white\", \"zerolinewidth\": 2}}}, \"xaxis\": {\"anchor\": \"y\", \"domain\": [0.0, 1.0]}, \"yaxis\": {\"anchor\": \"x\", \"domain\": [0.0, 1.0], \"title\": {\"text\": \"0\"}}},\n                        {\"responsive\": true}\n                    ).then(function(){\n                            \nvar gd = document.getElementById('d79535d1-25cc-4957-85c1-fce299a85c9c');\nvar x = new MutationObserver(function (mutations, observer) {{\n        var display = window.getComputedStyle(gd).display;\n        if (!display || display === 'none') {{\n            console.log([gd, 'removed!']);\n            Plotly.purge(gd);\n            observer.disconnect();\n        }}\n}});\n\n// Listen for the removal of the full notebook cells\nvar notebookContainer = gd.closest('#notebook-container');\nif (notebookContainer) {{\n    x.observe(notebookContainer, {childList: true});\n}}\n\n// Listen for the clearing of the current output cell\nvar outputEl = gd.closest('.output');\nif (outputEl) {{\n    x.observe(outputEl, {childList: true});\n}}\n\n                        })\n                };\n                });\n            </script>\n        </div>"
     },
     "metadata": {}
    },
    {
     "output_type": "display_data",
     "data": {
      "application/vnd.plotly.v1+json": {
       "config": {
        "plotlyServerURL": "https://plot.ly"
       },
       "data": [
        {
         "hovertemplate": "0=%{y}<extra></extra>",
         "legendgroup": "",
         "line": {
          "color": "#636efa",
          "dash": "solid"
         },
         "mode": "lines",
         "name": "",
         "showlegend": false,
         "type": "scatter",
         "xaxis": "x",
         "y": [
          163,
          518,
          519,
          297,
          246,
          309,
          195,
          245,
          249,
          251,
          187,
          332,
          360,
          448,
          497,
          136,
          126,
          269,
          122,
          362,
          176,
          436,
          157,
          473,
          109,
          410,
          134,
          203,
          385,
          352,
          123,
          237,
          293,
          210,
          257,
          403,
          135,
          380,
          202,
          559,
          497,
          189,
          351,
          337,
          218,
          130,
          221,
          293,
          121,
          101,
          181,
          147,
          473,
          83,
          217,
          242,
          432,
          254,
          101,
          245,
          271,
          568,
          216,
          59,
          416,
          195,
          527,
          244,
          434,
          264,
          84,
          159,
          206,
          159,
          496,
          267,
          295,
          151,
          192,
          161,
          446,
          199,
          447,
          589,
          451,
          116,
          556,
          130,
          559,
          245,
          265,
          274,
          276,
          164,
          542,
          249,
          435,
          104,
          327,
          335,
          514,
          298,
          486,
          115,
          128,
          428,
          319,
          153,
          385,
          77,
          375,
          343,
          216,
          281,
          235,
          158,
          553,
          527,
          517,
          187,
          447,
          209,
          315,
          52,
          518,
          188,
          206,
          111,
          372,
          266,
          316,
          227,
          443,
          198,
          530,
          85,
          571,
          276,
          249,
          283,
          279,
          289,
          296,
          209,
          268,
          200,
          116,
          432,
          254,
          213,
          91,
          249,
          363,
          246,
          539,
          258,
          332,
          313,
          575,
          640,
          250,
          285,
          128,
          254,
          312,
          251,
          286,
          212,
          118,
          182,
          377,
          323,
          520,
          30,
          637,
          419,
          202,
          464,
          230,
          114,
          440,
          391,
          112,
          598,
          209,
          306,
          258,
          286,
          108,
          194,
          235,
          380,
          184,
          482,
          285,
          433,
          213,
          124,
          212,
          142,
          159,
          339,
          222,
          302,
          286,
          219,
          174,
          423,
          278,
          526,
          61,
          408,
          318,
          217,
          156,
          315,
          216,
          415,
          454,
          139,
          224,
          118,
          539,
          214,
          425,
          277,
          239,
          598,
          189,
          197,
          366,
          122,
          472,
          284,
          387,
          162,
          370,
          238,
          311,
          180,
          252,
          363,
          343,
          303,
          381,
          199,
          246,
          242,
          370,
          311,
          563,
          132,
          174,
          211,
          403,
          196,
          307,
          228,
          530,
          535,
          166,
          366,
          243,
          327,
          196,
          418,
          234,
          80,
          325,
          427,
          517,
          163,
          169,
          358,
          250,
          154,
          300,
          46,
          438,
          324,
          169,
          487,
          38,
          245,
          103,
          289,
          132,
          717,
          233,
          360,
          360,
          299,
          429,
          134,
          330,
          47,
          211,
          94,
          442,
          121,
          267,
          47,
          153,
          328,
          373,
          43,
          313,
          179,
          447,
          412,
          4,
          499,
          161,
          328,
          264,
          337,
          380,
          182,
          200,
          230,
          184,
          162,
          460,
          96,
          427,
          239,
          445,
          378,
          389,
          265,
          265,
          297,
          264,
          293,
          193,
          80,
          476,
          215,
          278,
          289,
          6,
          104,
          166,
          594,
          6,
          392,
          133,
          458,
          218,
          229,
          312,
          640,
          543,
          190,
          269,
          303,
          166,
          219,
          236,
          331,
          436,
          329,
          332,
          404,
          89,
          391,
          377,
          186,
          200,
          405,
          380,
          308,
          266,
          404,
          357,
          183,
          534,
          72,
          507,
          13,
          248,
          232,
          533,
          309,
          227,
          326,
          357,
          415,
          170,
          372,
          224,
          550,
          300,
          90,
          532,
          51,
          445,
          221,
          277,
          291,
          468,
          171,
          543,
          313,
          237,
          355,
          303,
          224,
          413,
          229,
          392,
          438,
          364,
          369,
          123,
          280,
          97,
          260,
          219,
          504,
          220,
          375,
          540,
          201,
          316,
          460,
          10,
          519,
          86,
          567,
          353,
          284,
          248,
          360,
          384,
          372,
          259,
          199,
          368,
          485,
          210,
          296,
          271,
          274,
          293,
          239,
          509,
          344,
          503,
          211,
          323,
          412,
          19,
          244,
          501,
          344,
          206,
          100,
          176,
          318,
          157,
          145,
          251,
          435,
          156,
          385,
          218,
          288,
          234,
          329,
          119,
          375,
          409,
          193,
          319,
          96,
          249,
          341,
          294,
          416,
          136,
          526,
          233,
          640,
          288,
          112,
          202,
          218,
          265,
          261,
          205,
          279,
          366,
          150,
          325,
          259,
          215,
          184,
          130,
          139,
          627,
          543,
          415,
          195,
          365,
          87,
          610,
          282,
          389,
          121,
          225,
          189,
          342,
          402,
          214,
          323,
          403,
          429,
          224,
          414,
          154,
          502,
          269,
          521,
          368,
          14,
          616,
          239,
          195,
          46,
          213,
          215,
          417,
          407,
          509,
          229,
          225,
          198,
          280,
          483,
          261,
          109,
          466,
          597,
          404,
          163,
          342,
          249,
          429,
          188,
          520,
          345,
          280,
          274,
          179,
          402,
          171,
          576,
          161,
          230,
          208,
          472,
          109,
          211,
          467,
          549,
          376,
          375,
          351,
          487,
          241,
          164,
          363,
          154,
          371,
          328,
          106,
          316,
          308,
          462,
          258,
          286,
          194,
          106,
          286,
          184,
          124,
          320,
          183,
          579,
          577,
          197,
          158,
          317,
          443,
          328,
          36,
          331,
          219,
          486,
          195,
          442,
          109,
          269,
          465,
          417,
          153
         ],
         "yaxis": "y"
        }
       ],
       "layout": {
        "legend": {
         "tracegroupgap": 0
        },
        "margin": {
         "t": 60
        },
        "template": {
         "data": {
          "bar": [
           {
            "error_x": {
             "color": "#2a3f5f"
            },
            "error_y": {
             "color": "#2a3f5f"
            },
            "marker": {
             "line": {
              "color": "#E5ECF6",
              "width": 0.5
             }
            },
            "type": "bar"
           }
          ],
          "barpolar": [
           {
            "marker": {
             "line": {
              "color": "#E5ECF6",
              "width": 0.5
             }
            },
            "type": "barpolar"
           }
          ],
          "carpet": [
           {
            "aaxis": {
             "endlinecolor": "#2a3f5f",
             "gridcolor": "white",
             "linecolor": "white",
             "minorgridcolor": "white",
             "startlinecolor": "#2a3f5f"
            },
            "baxis": {
             "endlinecolor": "#2a3f5f",
             "gridcolor": "white",
             "linecolor": "white",
             "minorgridcolor": "white",
             "startlinecolor": "#2a3f5f"
            },
            "type": "carpet"
           }
          ],
          "choropleth": [
           {
            "colorbar": {
             "outlinewidth": 0,
             "ticks": ""
            },
            "type": "choropleth"
           }
          ],
          "contour": [
           {
            "colorbar": {
             "outlinewidth": 0,
             "ticks": ""
            },
            "colorscale": [
             [
              0,
              "#0d0887"
             ],
             [
              0.1111111111111111,
              "#46039f"
             ],
             [
              0.2222222222222222,
              "#7201a8"
             ],
             [
              0.3333333333333333,
              "#9c179e"
             ],
             [
              0.4444444444444444,
              "#bd3786"
             ],
             [
              0.5555555555555556,
              "#d8576b"
             ],
             [
              0.6666666666666666,
              "#ed7953"
             ],
             [
              0.7777777777777778,
              "#fb9f3a"
             ],
             [
              0.8888888888888888,
              "#fdca26"
             ],
             [
              1,
              "#f0f921"
             ]
            ],
            "type": "contour"
           }
          ],
          "contourcarpet": [
           {
            "colorbar": {
             "outlinewidth": 0,
             "ticks": ""
            },
            "type": "contourcarpet"
           }
          ],
          "heatmap": [
           {
            "colorbar": {
             "outlinewidth": 0,
             "ticks": ""
            },
            "colorscale": [
             [
              0,
              "#0d0887"
             ],
             [
              0.1111111111111111,
              "#46039f"
             ],
             [
              0.2222222222222222,
              "#7201a8"
             ],
             [
              0.3333333333333333,
              "#9c179e"
             ],
             [
              0.4444444444444444,
              "#bd3786"
             ],
             [
              0.5555555555555556,
              "#d8576b"
             ],
             [
              0.6666666666666666,
              "#ed7953"
             ],
             [
              0.7777777777777778,
              "#fb9f3a"
             ],
             [
              0.8888888888888888,
              "#fdca26"
             ],
             [
              1,
              "#f0f921"
             ]
            ],
            "type": "heatmap"
           }
          ],
          "heatmapgl": [
           {
            "colorbar": {
             "outlinewidth": 0,
             "ticks": ""
            },
            "colorscale": [
             [
              0,
              "#0d0887"
             ],
             [
              0.1111111111111111,
              "#46039f"
             ],
             [
              0.2222222222222222,
              "#7201a8"
             ],
             [
              0.3333333333333333,
              "#9c179e"
             ],
             [
              0.4444444444444444,
              "#bd3786"
             ],
             [
              0.5555555555555556,
              "#d8576b"
             ],
             [
              0.6666666666666666,
              "#ed7953"
             ],
             [
              0.7777777777777778,
              "#fb9f3a"
             ],
             [
              0.8888888888888888,
              "#fdca26"
             ],
             [
              1,
              "#f0f921"
             ]
            ],
            "type": "heatmapgl"
           }
          ],
          "histogram": [
           {
            "marker": {
             "colorbar": {
              "outlinewidth": 0,
              "ticks": ""
             }
            },
            "type": "histogram"
           }
          ],
          "histogram2d": [
           {
            "colorbar": {
             "outlinewidth": 0,
             "ticks": ""
            },
            "colorscale": [
             [
              0,
              "#0d0887"
             ],
             [
              0.1111111111111111,
              "#46039f"
             ],
             [
              0.2222222222222222,
              "#7201a8"
             ],
             [
              0.3333333333333333,
              "#9c179e"
             ],
             [
              0.4444444444444444,
              "#bd3786"
             ],
             [
              0.5555555555555556,
              "#d8576b"
             ],
             [
              0.6666666666666666,
              "#ed7953"
             ],
             [
              0.7777777777777778,
              "#fb9f3a"
             ],
             [
              0.8888888888888888,
              "#fdca26"
             ],
             [
              1,
              "#f0f921"
             ]
            ],
            "type": "histogram2d"
           }
          ],
          "histogram2dcontour": [
           {
            "colorbar": {
             "outlinewidth": 0,
             "ticks": ""
            },
            "colorscale": [
             [
              0,
              "#0d0887"
             ],
             [
              0.1111111111111111,
              "#46039f"
             ],
             [
              0.2222222222222222,
              "#7201a8"
             ],
             [
              0.3333333333333333,
              "#9c179e"
             ],
             [
              0.4444444444444444,
              "#bd3786"
             ],
             [
              0.5555555555555556,
              "#d8576b"
             ],
             [
              0.6666666666666666,
              "#ed7953"
             ],
             [
              0.7777777777777778,
              "#fb9f3a"
             ],
             [
              0.8888888888888888,
              "#fdca26"
             ],
             [
              1,
              "#f0f921"
             ]
            ],
            "type": "histogram2dcontour"
           }
          ],
          "mesh3d": [
           {
            "colorbar": {
             "outlinewidth": 0,
             "ticks": ""
            },
            "type": "mesh3d"
           }
          ],
          "parcoords": [
           {
            "line": {
             "colorbar": {
              "outlinewidth": 0,
              "ticks": ""
             }
            },
            "type": "parcoords"
           }
          ],
          "pie": [
           {
            "automargin": true,
            "type": "pie"
           }
          ],
          "scatter": [
           {
            "marker": {
             "colorbar": {
              "outlinewidth": 0,
              "ticks": ""
             }
            },
            "type": "scatter"
           }
          ],
          "scatter3d": [
           {
            "line": {
             "colorbar": {
              "outlinewidth": 0,
              "ticks": ""
             }
            },
            "marker": {
             "colorbar": {
              "outlinewidth": 0,
              "ticks": ""
             }
            },
            "type": "scatter3d"
           }
          ],
          "scattercarpet": [
           {
            "marker": {
             "colorbar": {
              "outlinewidth": 0,
              "ticks": ""
             }
            },
            "type": "scattercarpet"
           }
          ],
          "scattergeo": [
           {
            "marker": {
             "colorbar": {
              "outlinewidth": 0,
              "ticks": ""
             }
            },
            "type": "scattergeo"
           }
          ],
          "scattergl": [
           {
            "marker": {
             "colorbar": {
              "outlinewidth": 0,
              "ticks": ""
             }
            },
            "type": "scattergl"
           }
          ],
          "scattermapbox": [
           {
            "marker": {
             "colorbar": {
              "outlinewidth": 0,
              "ticks": ""
             }
            },
            "type": "scattermapbox"
           }
          ],
          "scatterpolar": [
           {
            "marker": {
             "colorbar": {
              "outlinewidth": 0,
              "ticks": ""
             }
            },
            "type": "scatterpolar"
           }
          ],
          "scatterpolargl": [
           {
            "marker": {
             "colorbar": {
              "outlinewidth": 0,
              "ticks": ""
             }
            },
            "type": "scatterpolargl"
           }
          ],
          "scatterternary": [
           {
            "marker": {
             "colorbar": {
              "outlinewidth": 0,
              "ticks": ""
             }
            },
            "type": "scatterternary"
           }
          ],
          "surface": [
           {
            "colorbar": {
             "outlinewidth": 0,
             "ticks": ""
            },
            "colorscale": [
             [
              0,
              "#0d0887"
             ],
             [
              0.1111111111111111,
              "#46039f"
             ],
             [
              0.2222222222222222,
              "#7201a8"
             ],
             [
              0.3333333333333333,
              "#9c179e"
             ],
             [
              0.4444444444444444,
              "#bd3786"
             ],
             [
              0.5555555555555556,
              "#d8576b"
             ],
             [
              0.6666666666666666,
              "#ed7953"
             ],
             [
              0.7777777777777778,
              "#fb9f3a"
             ],
             [
              0.8888888888888888,
              "#fdca26"
             ],
             [
              1,
              "#f0f921"
             ]
            ],
            "type": "surface"
           }
          ],
          "table": [
           {
            "cells": {
             "fill": {
              "color": "#EBF0F8"
             },
             "line": {
              "color": "white"
             }
            },
            "header": {
             "fill": {
              "color": "#C8D4E3"
             },
             "line": {
              "color": "white"
             }
            },
            "type": "table"
           }
          ]
         },
         "layout": {
          "annotationdefaults": {
           "arrowcolor": "#2a3f5f",
           "arrowhead": 0,
           "arrowwidth": 1
          },
          "coloraxis": {
           "colorbar": {
            "outlinewidth": 0,
            "ticks": ""
           }
          },
          "colorscale": {
           "diverging": [
            [
             0,
             "#8e0152"
            ],
            [
             0.1,
             "#c51b7d"
            ],
            [
             0.2,
             "#de77ae"
            ],
            [
             0.3,
             "#f1b6da"
            ],
            [
             0.4,
             "#fde0ef"
            ],
            [
             0.5,
             "#f7f7f7"
            ],
            [
             0.6,
             "#e6f5d0"
            ],
            [
             0.7,
             "#b8e186"
            ],
            [
             0.8,
             "#7fbc41"
            ],
            [
             0.9,
             "#4d9221"
            ],
            [
             1,
             "#276419"
            ]
           ],
           "sequential": [
            [
             0,
             "#0d0887"
            ],
            [
             0.1111111111111111,
             "#46039f"
            ],
            [
             0.2222222222222222,
             "#7201a8"
            ],
            [
             0.3333333333333333,
             "#9c179e"
            ],
            [
             0.4444444444444444,
             "#bd3786"
            ],
            [
             0.5555555555555556,
             "#d8576b"
            ],
            [
             0.6666666666666666,
             "#ed7953"
            ],
            [
             0.7777777777777778,
             "#fb9f3a"
            ],
            [
             0.8888888888888888,
             "#fdca26"
            ],
            [
             1,
             "#f0f921"
            ]
           ],
           "sequentialminus": [
            [
             0,
             "#0d0887"
            ],
            [
             0.1111111111111111,
             "#46039f"
            ],
            [
             0.2222222222222222,
             "#7201a8"
            ],
            [
             0.3333333333333333,
             "#9c179e"
            ],
            [
             0.4444444444444444,
             "#bd3786"
            ],
            [
             0.5555555555555556,
             "#d8576b"
            ],
            [
             0.6666666666666666,
             "#ed7953"
            ],
            [
             0.7777777777777778,
             "#fb9f3a"
            ],
            [
             0.8888888888888888,
             "#fdca26"
            ],
            [
             1,
             "#f0f921"
            ]
           ]
          },
          "colorway": [
           "#636efa",
           "#EF553B",
           "#00cc96",
           "#ab63fa",
           "#FFA15A",
           "#19d3f3",
           "#FF6692",
           "#B6E880",
           "#FF97FF",
           "#FECB52"
          ],
          "font": {
           "color": "#2a3f5f"
          },
          "geo": {
           "bgcolor": "white",
           "lakecolor": "white",
           "landcolor": "#E5ECF6",
           "showlakes": true,
           "showland": true,
           "subunitcolor": "white"
          },
          "hoverlabel": {
           "align": "left"
          },
          "hovermode": "closest",
          "mapbox": {
           "style": "light"
          },
          "paper_bgcolor": "white",
          "plot_bgcolor": "#E5ECF6",
          "polar": {
           "angularaxis": {
            "gridcolor": "white",
            "linecolor": "white",
            "ticks": ""
           },
           "bgcolor": "#E5ECF6",
           "radialaxis": {
            "gridcolor": "white",
            "linecolor": "white",
            "ticks": ""
           }
          },
          "scene": {
           "xaxis": {
            "backgroundcolor": "#E5ECF6",
            "gridcolor": "white",
            "gridwidth": 2,
            "linecolor": "white",
            "showbackground": true,
            "ticks": "",
            "zerolinecolor": "white"
           },
           "yaxis": {
            "backgroundcolor": "#E5ECF6",
            "gridcolor": "white",
            "gridwidth": 2,
            "linecolor": "white",
            "showbackground": true,
            "ticks": "",
            "zerolinecolor": "white"
           },
           "zaxis": {
            "backgroundcolor": "#E5ECF6",
            "gridcolor": "white",
            "gridwidth": 2,
            "linecolor": "white",
            "showbackground": true,
            "ticks": "",
            "zerolinecolor": "white"
           }
          },
          "shapedefaults": {
           "line": {
            "color": "#2a3f5f"
           }
          },
          "ternary": {
           "aaxis": {
            "gridcolor": "white",
            "linecolor": "white",
            "ticks": ""
           },
           "baxis": {
            "gridcolor": "white",
            "linecolor": "white",
            "ticks": ""
           },
           "bgcolor": "#E5ECF6",
           "caxis": {
            "gridcolor": "white",
            "linecolor": "white",
            "ticks": ""
           }
          },
          "title": {
           "x": 0.05
          },
          "xaxis": {
           "automargin": true,
           "gridcolor": "white",
           "linecolor": "white",
           "ticks": "",
           "title": {
            "standoff": 15
           },
           "zerolinecolor": "white",
           "zerolinewidth": 2
          },
          "yaxis": {
           "automargin": true,
           "gridcolor": "white",
           "linecolor": "white",
           "ticks": "",
           "title": {
            "standoff": 15
           },
           "zerolinecolor": "white",
           "zerolinewidth": 2
          }
         }
        },
        "xaxis": {
         "anchor": "y",
         "domain": [
          0,
          1
         ]
        },
        "yaxis": {
         "anchor": "x",
         "domain": [
          0,
          1
         ],
         "title": {
          "text": "0"
         }
        }
       }
      },
      "text/html": "<div>\n        \n        \n            <div id=\"c4bd6f96-2092-43c4-93b2-f2a3255dd154\" class=\"plotly-graph-div\" style=\"height:525px; width:100%;\"></div>\n            <script type=\"text/javascript\">\n                require([\"plotly\"], function(Plotly) {\n                    window.PLOTLYENV=window.PLOTLYENV || {};\n                    \n                if (document.getElementById(\"c4bd6f96-2092-43c4-93b2-f2a3255dd154\")) {\n                    Plotly.newPlot(\n                        'c4bd6f96-2092-43c4-93b2-f2a3255dd154',\n                        [{\"hovertemplate\": \"0=%{y}<extra></extra>\", \"legendgroup\": \"\", \"line\": {\"color\": \"#636efa\", \"dash\": \"solid\"}, \"mode\": \"lines\", \"name\": \"\", \"showlegend\": false, \"type\": \"scatter\", \"xaxis\": \"x\", \"y\": [163.0, 518.0, 519.0, 297.0, 246.0, 309.0, 195.0, 245.0, 249.0, 251.0, 187.0, 332.0, 360.0, 448.0, 497.0, 136.0, 126.0, 269.0, 122.0, 362.0, 176.0, 436.0, 157.0, 473.0, 109.0, 410.0, 134.0, 203.0, 385.0, 352.0, 123.0, 237.0, 293.0, 210.0, 257.0, 403.0, 135.0, 380.0, 202.0, 559.0, 497.0, 189.0, 351.0, 337.0, 218.0, 130.0, 221.0, 293.0, 121.0, 101.0, 181.0, 147.0, 473.0, 83.0, 217.0, 242.0, 432.0, 254.0, 101.0, 245.0, 271.0, 568.0, 216.0, 59.0, 416.0, 195.0, 527.0, 244.0, 434.0, 264.0, 84.0, 159.0, 206.0, 159.0, 496.0, 267.0, 295.0, 151.0, 192.0, 161.0, 446.0, 199.0, 447.0, 589.0, 451.0, 116.0, 556.0, 130.0, 559.0, 245.0, 265.0, 274.0, 276.0, 164.0, 542.0, 249.0, 435.0, 104.0, 327.0, 335.0, 514.0, 298.0, 486.0, 115.0, 128.0, 428.0, 319.0, 153.0, 385.0, 77.0, 375.0, 343.0, 216.0, 281.0, 235.0, 158.0, 553.0, 527.0, 517.0, 187.0, 447.0, 209.0, 315.0, 52.0, 518.0, 188.0, 206.0, 111.0, 372.0, 266.0, 316.0, 227.0, 443.0, 198.0, 530.0, 85.0, 571.0, 276.0, 249.0, 283.0, 279.0, 289.0, 296.0, 209.0, 268.0, 200.0, 116.0, 432.0, 254.0, 213.0, 91.0, 249.0, 363.0, 246.0, 539.0, 258.0, 332.0, 313.0, 575.0, 640.0, 250.0, 285.0, 128.0, 254.0, 312.0, 251.0, 286.0, 212.0, 118.0, 182.0, 377.0, 323.0, 520.0, 30.0, 637.0, 419.0, 202.0, 464.0, 230.0, 114.0, 440.0, 391.0, 112.0, 598.0, 209.0, 306.0, 258.0, 286.0, 108.0, 194.0, 235.0, 380.0, 184.0, 482.0, 285.0, 433.0, 213.0, 124.0, 212.0, 142.0, 159.0, 339.0, 222.0, 302.0, 286.0, 219.0, 174.0, 423.0, 278.0, 526.0, 61.0, 408.0, 318.0, 217.0, 156.0, 315.0, 216.0, 415.0, 454.0, 139.0, 224.0, 118.0, 539.0, 214.0, 425.0, 277.0, 239.0, 598.0, 189.0, 197.0, 366.0, 122.0, 472.0, 284.0, 387.0, 162.0, 370.0, 238.0, 311.0, 180.0, 252.0, 363.0, 343.0, 303.0, 381.0, 199.0, 246.0, 242.0, 370.0, 311.0, 563.0, 132.0, 174.0, 211.0, 403.0, 196.0, 307.0, 228.0, 530.0, 535.0, 166.0, 366.0, 243.0, 327.0, 196.0, 418.0, 234.0, 80.0, 325.0, 427.0, 517.0, 163.0, 169.0, 358.0, 250.0, 154.0, 300.0, 46.0, 438.0, 324.0, 169.0, 487.0, 38.0, 245.0, 103.0, 289.0, 132.0, 717.0, 233.0, 360.0, 360.0, 299.0, 429.0, 134.0, 330.0, 47.0, 211.0, 94.0, 442.0, 121.0, 267.0, 47.0, 153.0, 328.0, 373.0, 43.0, 313.0, 179.0, 447.0, 412.0, 4.0, 499.0, 161.0, 328.0, 264.0, 337.0, 380.0, 182.0, 200.0, 230.0, 184.0, 162.0, 460.0, 96.0, 427.0, 239.0, 445.0, 378.0, 389.0, 265.0, 265.0, 297.0, 264.0, 293.0, 193.0, 80.0, 476.0, 215.0, 278.0, 289.0, 6.0, 104.0, 166.0, 594.0, 6.0, 392.0, 133.0, 458.0, 218.0, 229.0, 312.0, 640.0, 543.0, 190.0, 269.0, 303.0, 166.0, 219.0, 236.0, 331.0, 436.0, 329.0, 332.0, 404.0, 89.0, 391.0, 377.0, 186.0, 200.0, 405.0, 380.0, 308.0, 266.0, 404.0, 357.0, 183.0, 534.0, 72.0, 507.0, 13.0, 248.0, 232.0, 533.0, 309.0, 227.0, 326.0, 357.0, 415.0, 170.0, 372.0, 224.0, 550.0, 300.0, 90.0, 532.0, 51.0, 445.0, 221.0, 277.0, 291.0, 468.0, 171.0, 543.0, 313.0, 237.0, 355.0, 303.0, 224.0, 413.0, 229.0, 392.0, 438.0, 364.0, 369.0, 123.0, 280.0, 97.0, 260.0, 219.0, 504.0, 220.0, 375.0, 540.0, 201.0, 316.0, 460.0, 10.0, 519.0, 86.0, 567.0, 353.0, 284.0, 248.0, 360.0, 384.0, 372.0, 259.0, 199.0, 368.0, 485.0, 210.0, 296.0, 271.0, 274.0, 293.0, 239.0, 509.0, 344.0, 503.0, 211.0, 323.0, 412.0, 19.0, 244.0, 501.0, 344.0, 206.0, 100.0, 176.0, 318.0, 157.0, 145.0, 251.0, 435.0, 156.0, 385.0, 218.0, 288.0, 234.0, 329.0, 119.0, 375.0, 409.0, 193.0, 319.0, 96.0, 249.0, 341.0, 294.0, 416.0, 136.0, 526.0, 233.0, 640.0, 288.0, 112.0, 202.0, 218.0, 265.0, 261.0, 205.0, 279.0, 366.0, 150.0, 325.0, 259.0, 215.0, 184.0, 130.0, 139.0, 627.0, 543.0, 415.0, 195.0, 365.0, 87.0, 610.0, 282.0, 389.0, 121.0, 225.0, 189.0, 342.0, 402.0, 214.0, 323.0, 403.0, 429.0, 224.0, 414.0, 154.0, 502.0, 269.0, 521.0, 368.0, 14.0, 616.0, 239.0, 195.0, 46.0, 213.0, 215.0, 417.0, 407.0, 509.0, 229.0, 225.0, 198.0, 280.0, 483.0, 261.0, 109.0, 466.0, 597.0, 404.0, 163.0, 342.0, 249.0, 429.0, 188.0, 520.0, 345.0, 280.0, 274.0, 179.0, 402.0, 171.0, 576.0, 161.0, 230.0, 208.0, 472.0, 109.0, 211.0, 467.0, 549.0, 376.0, 375.0, 351.0, 487.0, 241.0, 164.0, 363.0, 154.0, 371.0, 328.0, 106.0, 316.0, 308.0, 462.0, 258.0, 286.0, 194.0, 106.0, 286.0, 184.0, 124.0, 320.0, 183.0, 579.0, 577.0, 197.0, 158.0, 317.0, 443.0, 328.0, 36.0, 331.0, 219.0, 486.0, 195.0, 442.0, 109.0, 269.0, 465.0, 417.0, 153.0], \"yaxis\": \"y\"}],\n                        {\"legend\": {\"tracegroupgap\": 0}, \"margin\": {\"t\": 60}, \"template\": {\"data\": {\"bar\": [{\"error_x\": {\"color\": \"#2a3f5f\"}, \"error_y\": {\"color\": \"#2a3f5f\"}, \"marker\": {\"line\": {\"color\": \"#E5ECF6\", \"width\": 0.5}}, \"type\": \"bar\"}], \"barpolar\": [{\"marker\": {\"line\": {\"color\": \"#E5ECF6\", \"width\": 0.5}}, \"type\": \"barpolar\"}], \"carpet\": [{\"aaxis\": {\"endlinecolor\": \"#2a3f5f\", \"gridcolor\": \"white\", \"linecolor\": \"white\", \"minorgridcolor\": \"white\", \"startlinecolor\": \"#2a3f5f\"}, \"baxis\": {\"endlinecolor\": \"#2a3f5f\", \"gridcolor\": \"white\", \"linecolor\": \"white\", \"minorgridcolor\": \"white\", \"startlinecolor\": \"#2a3f5f\"}, \"type\": \"carpet\"}], \"choropleth\": [{\"colorbar\": {\"outlinewidth\": 0, \"ticks\": \"\"}, \"type\": \"choropleth\"}], \"contour\": [{\"colorbar\": {\"outlinewidth\": 0, \"ticks\": \"\"}, \"colorscale\": [[0.0, \"#0d0887\"], [0.1111111111111111, \"#46039f\"], [0.2222222222222222, \"#7201a8\"], [0.3333333333333333, \"#9c179e\"], [0.4444444444444444, \"#bd3786\"], [0.5555555555555556, \"#d8576b\"], [0.6666666666666666, \"#ed7953\"], [0.7777777777777778, \"#fb9f3a\"], [0.8888888888888888, \"#fdca26\"], [1.0, \"#f0f921\"]], \"type\": \"contour\"}], \"contourcarpet\": [{\"colorbar\": {\"outlinewidth\": 0, \"ticks\": \"\"}, \"type\": \"contourcarpet\"}], \"heatmap\": [{\"colorbar\": {\"outlinewidth\": 0, \"ticks\": \"\"}, \"colorscale\": [[0.0, \"#0d0887\"], [0.1111111111111111, \"#46039f\"], [0.2222222222222222, \"#7201a8\"], [0.3333333333333333, \"#9c179e\"], [0.4444444444444444, \"#bd3786\"], [0.5555555555555556, \"#d8576b\"], [0.6666666666666666, \"#ed7953\"], [0.7777777777777778, \"#fb9f3a\"], [0.8888888888888888, \"#fdca26\"], [1.0, \"#f0f921\"]], \"type\": \"heatmap\"}], \"heatmapgl\": [{\"colorbar\": {\"outlinewidth\": 0, \"ticks\": \"\"}, \"colorscale\": [[0.0, \"#0d0887\"], [0.1111111111111111, \"#46039f\"], [0.2222222222222222, \"#7201a8\"], [0.3333333333333333, \"#9c179e\"], [0.4444444444444444, \"#bd3786\"], [0.5555555555555556, \"#d8576b\"], [0.6666666666666666, \"#ed7953\"], [0.7777777777777778, \"#fb9f3a\"], [0.8888888888888888, \"#fdca26\"], [1.0, \"#f0f921\"]], \"type\": \"heatmapgl\"}], \"histogram\": [{\"marker\": {\"colorbar\": {\"outlinewidth\": 0, \"ticks\": \"\"}}, \"type\": \"histogram\"}], \"histogram2d\": [{\"colorbar\": {\"outlinewidth\": 0, \"ticks\": \"\"}, \"colorscale\": [[0.0, \"#0d0887\"], [0.1111111111111111, \"#46039f\"], [0.2222222222222222, \"#7201a8\"], [0.3333333333333333, \"#9c179e\"], [0.4444444444444444, \"#bd3786\"], [0.5555555555555556, \"#d8576b\"], [0.6666666666666666, \"#ed7953\"], [0.7777777777777778, \"#fb9f3a\"], [0.8888888888888888, \"#fdca26\"], [1.0, \"#f0f921\"]], \"type\": \"histogram2d\"}], \"histogram2dcontour\": [{\"colorbar\": {\"outlinewidth\": 0, \"ticks\": \"\"}, \"colorscale\": [[0.0, \"#0d0887\"], [0.1111111111111111, \"#46039f\"], [0.2222222222222222, \"#7201a8\"], [0.3333333333333333, \"#9c179e\"], [0.4444444444444444, \"#bd3786\"], [0.5555555555555556, \"#d8576b\"], [0.6666666666666666, \"#ed7953\"], [0.7777777777777778, \"#fb9f3a\"], [0.8888888888888888, \"#fdca26\"], [1.0, \"#f0f921\"]], \"type\": \"histogram2dcontour\"}], \"mesh3d\": [{\"colorbar\": {\"outlinewidth\": 0, \"ticks\": \"\"}, \"type\": \"mesh3d\"}], \"parcoords\": [{\"line\": {\"colorbar\": {\"outlinewidth\": 0, \"ticks\": \"\"}}, \"type\": \"parcoords\"}], \"pie\": [{\"automargin\": true, \"type\": \"pie\"}], \"scatter\": [{\"marker\": {\"colorbar\": {\"outlinewidth\": 0, \"ticks\": \"\"}}, \"type\": \"scatter\"}], \"scatter3d\": [{\"line\": {\"colorbar\": {\"outlinewidth\": 0, \"ticks\": \"\"}}, \"marker\": {\"colorbar\": {\"outlinewidth\": 0, \"ticks\": \"\"}}, \"type\": \"scatter3d\"}], \"scattercarpet\": [{\"marker\": {\"colorbar\": {\"outlinewidth\": 0, \"ticks\": \"\"}}, \"type\": \"scattercarpet\"}], \"scattergeo\": [{\"marker\": {\"colorbar\": {\"outlinewidth\": 0, \"ticks\": \"\"}}, \"type\": \"scattergeo\"}], \"scattergl\": [{\"marker\": {\"colorbar\": {\"outlinewidth\": 0, \"ticks\": \"\"}}, \"type\": \"scattergl\"}], \"scattermapbox\": [{\"marker\": {\"colorbar\": {\"outlinewidth\": 0, \"ticks\": \"\"}}, \"type\": \"scattermapbox\"}], \"scatterpolar\": [{\"marker\": {\"colorbar\": {\"outlinewidth\": 0, \"ticks\": \"\"}}, \"type\": \"scatterpolar\"}], \"scatterpolargl\": [{\"marker\": {\"colorbar\": {\"outlinewidth\": 0, \"ticks\": \"\"}}, \"type\": \"scatterpolargl\"}], \"scatterternary\": [{\"marker\": {\"colorbar\": {\"outlinewidth\": 0, \"ticks\": \"\"}}, \"type\": \"scatterternary\"}], \"surface\": [{\"colorbar\": {\"outlinewidth\": 0, \"ticks\": \"\"}, \"colorscale\": [[0.0, \"#0d0887\"], [0.1111111111111111, \"#46039f\"], [0.2222222222222222, \"#7201a8\"], [0.3333333333333333, \"#9c179e\"], [0.4444444444444444, \"#bd3786\"], [0.5555555555555556, \"#d8576b\"], [0.6666666666666666, \"#ed7953\"], [0.7777777777777778, \"#fb9f3a\"], [0.8888888888888888, \"#fdca26\"], [1.0, \"#f0f921\"]], \"type\": \"surface\"}], \"table\": [{\"cells\": {\"fill\": {\"color\": \"#EBF0F8\"}, \"line\": {\"color\": \"white\"}}, \"header\": {\"fill\": {\"color\": \"#C8D4E3\"}, \"line\": {\"color\": \"white\"}}, \"type\": \"table\"}]}, \"layout\": {\"annotationdefaults\": {\"arrowcolor\": \"#2a3f5f\", \"arrowhead\": 0, \"arrowwidth\": 1}, \"coloraxis\": {\"colorbar\": {\"outlinewidth\": 0, \"ticks\": \"\"}}, \"colorscale\": {\"diverging\": [[0, \"#8e0152\"], [0.1, \"#c51b7d\"], [0.2, \"#de77ae\"], [0.3, \"#f1b6da\"], [0.4, \"#fde0ef\"], [0.5, \"#f7f7f7\"], [0.6, \"#e6f5d0\"], [0.7, \"#b8e186\"], [0.8, \"#7fbc41\"], [0.9, \"#4d9221\"], [1, \"#276419\"]], \"sequential\": [[0.0, \"#0d0887\"], [0.1111111111111111, \"#46039f\"], [0.2222222222222222, \"#7201a8\"], [0.3333333333333333, \"#9c179e\"], [0.4444444444444444, \"#bd3786\"], [0.5555555555555556, \"#d8576b\"], [0.6666666666666666, \"#ed7953\"], [0.7777777777777778, \"#fb9f3a\"], [0.8888888888888888, \"#fdca26\"], [1.0, \"#f0f921\"]], \"sequentialminus\": [[0.0, \"#0d0887\"], [0.1111111111111111, \"#46039f\"], [0.2222222222222222, \"#7201a8\"], [0.3333333333333333, \"#9c179e\"], [0.4444444444444444, \"#bd3786\"], [0.5555555555555556, \"#d8576b\"], [0.6666666666666666, \"#ed7953\"], [0.7777777777777778, \"#fb9f3a\"], [0.8888888888888888, \"#fdca26\"], [1.0, \"#f0f921\"]]}, \"colorway\": [\"#636efa\", \"#EF553B\", \"#00cc96\", \"#ab63fa\", \"#FFA15A\", \"#19d3f3\", \"#FF6692\", \"#B6E880\", \"#FF97FF\", \"#FECB52\"], \"font\": {\"color\": \"#2a3f5f\"}, \"geo\": {\"bgcolor\": \"white\", \"lakecolor\": \"white\", \"landcolor\": \"#E5ECF6\", \"showlakes\": true, \"showland\": true, \"subunitcolor\": \"white\"}, \"hoverlabel\": {\"align\": \"left\"}, \"hovermode\": \"closest\", \"mapbox\": {\"style\": \"light\"}, \"paper_bgcolor\": \"white\", \"plot_bgcolor\": \"#E5ECF6\", \"polar\": {\"angularaxis\": {\"gridcolor\": \"white\", \"linecolor\": \"white\", \"ticks\": \"\"}, \"bgcolor\": \"#E5ECF6\", \"radialaxis\": {\"gridcolor\": \"white\", \"linecolor\": \"white\", \"ticks\": \"\"}}, \"scene\": {\"xaxis\": {\"backgroundcolor\": \"#E5ECF6\", \"gridcolor\": \"white\", \"gridwidth\": 2, \"linecolor\": \"white\", \"showbackground\": true, \"ticks\": \"\", \"zerolinecolor\": \"white\"}, \"yaxis\": {\"backgroundcolor\": \"#E5ECF6\", \"gridcolor\": \"white\", \"gridwidth\": 2, \"linecolor\": \"white\", \"showbackground\": true, \"ticks\": \"\", \"zerolinecolor\": \"white\"}, \"zaxis\": {\"backgroundcolor\": \"#E5ECF6\", \"gridcolor\": \"white\", \"gridwidth\": 2, \"linecolor\": \"white\", \"showbackground\": true, \"ticks\": \"\", \"zerolinecolor\": \"white\"}}, \"shapedefaults\": {\"line\": {\"color\": \"#2a3f5f\"}}, \"ternary\": {\"aaxis\": {\"gridcolor\": \"white\", \"linecolor\": \"white\", \"ticks\": \"\"}, \"baxis\": {\"gridcolor\": \"white\", \"linecolor\": \"white\", \"ticks\": \"\"}, \"bgcolor\": \"#E5ECF6\", \"caxis\": {\"gridcolor\": \"white\", \"linecolor\": \"white\", \"ticks\": \"\"}}, \"title\": {\"x\": 0.05}, \"xaxis\": {\"automargin\": true, \"gridcolor\": \"white\", \"linecolor\": \"white\", \"ticks\": \"\", \"title\": {\"standoff\": 15}, \"zerolinecolor\": \"white\", \"zerolinewidth\": 2}, \"yaxis\": {\"automargin\": true, \"gridcolor\": \"white\", \"linecolor\": \"white\", \"ticks\": \"\", \"title\": {\"standoff\": 15}, \"zerolinecolor\": \"white\", \"zerolinewidth\": 2}}}, \"xaxis\": {\"anchor\": \"y\", \"domain\": [0.0, 1.0]}, \"yaxis\": {\"anchor\": \"x\", \"domain\": [0.0, 1.0], \"title\": {\"text\": \"0\"}}},\n                        {\"responsive\": true}\n                    ).then(function(){\n                            \nvar gd = document.getElementById('c4bd6f96-2092-43c4-93b2-f2a3255dd154');\nvar x = new MutationObserver(function (mutations, observer) {{\n        var display = window.getComputedStyle(gd).display;\n        if (!display || display === 'none') {{\n            console.log([gd, 'removed!']);\n            Plotly.purge(gd);\n            observer.disconnect();\n        }}\n}});\n\n// Listen for the removal of the full notebook cells\nvar notebookContainer = gd.closest('#notebook-container');\nif (notebookContainer) {{\n    x.observe(notebookContainer, {childList: true});\n}}\n\n// Listen for the clearing of the current output cell\nvar outputEl = gd.closest('.output');\nif (outputEl) {{\n    x.observe(outputEl, {childList: true});\n}}\n\n                        })\n                };\n                });\n            </script>\n        </div>"
     },
     "metadata": {}
    }
   ],
   "source": [
    "import scipy.fftpack\n",
    "import plotly.express as px\n",
    "import numpy\n",
    "\n",
    "totalsf = scipy.fftpack.fft(totals.values)\n",
    "totalsf = pd.DataFrame(numpy.abs(totalsf))\n",
    "\n",
    "fig = px.line(totalsf, y=0)\n",
    "fig.show()\n",
    "\n",
    "totalsff = scipy.fftpack.fft(totalsf.values)\n",
    "totalsff = pd.DataFrame(numpy.abs(totalsf))\n",
    "\n",
    "fig = px.line(totalsff, y=0)\n",
    "fig.show()\n",
    "\n",
    "totalsfff = scipy.fftpack.fft(totalsff.values)\n",
    "totalsfff = pd.DataFrame(numpy.abs(totalsf))\n",
    "\n",
    "fig = px.line(totalsfff, y=0)\n",
    "fig.show()"
   ]
  },
  {
   "cell_type": "code",
   "execution_count": null,
   "metadata": {},
   "outputs": [],
   "source": []
  }
 ],
 "metadata": {
  "language_info": {
   "codemirror_mode": {
    "name": "ipython",
    "version": 3
   },
   "file_extension": ".py",
   "mimetype": "text/x-python",
   "name": "python",
   "nbconvert_exporter": "python",
   "pygments_lexer": "ipython3",
   "version": "3.6.9-final"
  },
  "orig_nbformat": 2,
  "kernelspec": {
   "name": "python36964bitcosc3000visualisationprojectvenv0f95dd858c3e45249a0df1643b6ad7ac",
   "display_name": "Python 3.6.9 64-bit ('cosc3000-visualisation-project': venv)"
  }
 },
 "nbformat": 4,
 "nbformat_minor": 2
}